{
  "cells": [
    {
      "cell_type": "markdown",
      "metadata": {
        "id": "S_RMUqOiCA20"
      },
      "source": [
        "**RED WINE QUALITY PREDICTION DATA MINING PROJECT**"
      ]
    },
    {
      "cell_type": "code",
      "execution_count": 2,
      "metadata": {
        "id": "Nw0ih0yqCA27"
      },
      "outputs": [],
      "source": [
        "import numpy as np # linear algebra\n",
        "import pandas as pd # data processing, CSV file I/O (e.g. pd.read_csv)\n",
        "import seaborn as sns\n",
        "import matplotlib.pyplot as plt\n",
        "from matplotlib.colors import ListedColormap\n",
        "from sklearn.metrics import plot_confusion_matrix\n",
        "from scipy.stats import norm, boxcox\n",
        "from collections import Counter\n",
        "from scipy import stats\n",
        "\n",
        "# warning library\n",
        "import warnings\n",
        "warnings.filterwarnings(\"ignore\")"
      ]
    },
    {
      "cell_type": "markdown",
      "metadata": {
        "id": "pC7isazxCA29"
      },
      "source": [
        "**I. LOAD AND CHECK DATA**"
      ]
    },
    {
      "cell_type": "code",
      "execution_count": 5,
      "metadata": {
        "id": "qZBrQc4aCA2-"
      },
      "outputs": [],
      "source": [
        "data = pd.read_csv(\"/Users/nguyenthaohau/Desktop/wine_quality.csv\")"
      ]
    },
    {
      "cell_type": "code",
      "execution_count": 4,
      "metadata": {
        "id": "RmcvjV0YCA2_",
        "outputId": "605e75aa-976b-4f60-c5b6-6b005ae15594"
      },
      "outputs": [
        {
          "data": {
            "text/html": [
              "<div>\n",
              "<style scoped>\n",
              "    .dataframe tbody tr th:only-of-type {\n",
              "        vertical-align: middle;\n",
              "    }\n",
              "\n",
              "    .dataframe tbody tr th {\n",
              "        vertical-align: top;\n",
              "    }\n",
              "\n",
              "    .dataframe thead th {\n",
              "        text-align: right;\n",
              "    }\n",
              "</style>\n",
              "<table border=\"1\" class=\"dataframe\">\n",
              "  <thead>\n",
              "    <tr style=\"text-align: right;\">\n",
              "      <th></th>\n",
              "      <th>fixed acidity</th>\n",
              "      <th>volatile acidity</th>\n",
              "      <th>citric acid</th>\n",
              "      <th>residual sugar</th>\n",
              "      <th>chlorides</th>\n",
              "      <th>free sulfur dioxide</th>\n",
              "      <th>total sulfur dioxide</th>\n",
              "      <th>density</th>\n",
              "      <th>pH</th>\n",
              "      <th>sulphates</th>\n",
              "      <th>alcohol</th>\n",
              "      <th>quality</th>\n",
              "    </tr>\n",
              "  </thead>\n",
              "  <tbody>\n",
              "    <tr>\n",
              "      <th>0</th>\n",
              "      <td>7.4</td>\n",
              "      <td>0.70</td>\n",
              "      <td>0.00</td>\n",
              "      <td>1.9</td>\n",
              "      <td>0.076</td>\n",
              "      <td>11.0</td>\n",
              "      <td>34.0</td>\n",
              "      <td>0.9978</td>\n",
              "      <td>3.51</td>\n",
              "      <td>0.56</td>\n",
              "      <td>9.4</td>\n",
              "      <td>5</td>\n",
              "    </tr>\n",
              "    <tr>\n",
              "      <th>1</th>\n",
              "      <td>7.8</td>\n",
              "      <td>0.88</td>\n",
              "      <td>0.00</td>\n",
              "      <td>2.6</td>\n",
              "      <td>0.098</td>\n",
              "      <td>25.0</td>\n",
              "      <td>67.0</td>\n",
              "      <td>0.9968</td>\n",
              "      <td>3.20</td>\n",
              "      <td>0.68</td>\n",
              "      <td>9.8</td>\n",
              "      <td>5</td>\n",
              "    </tr>\n",
              "    <tr>\n",
              "      <th>2</th>\n",
              "      <td>7.8</td>\n",
              "      <td>0.76</td>\n",
              "      <td>0.04</td>\n",
              "      <td>2.3</td>\n",
              "      <td>0.092</td>\n",
              "      <td>15.0</td>\n",
              "      <td>54.0</td>\n",
              "      <td>0.9970</td>\n",
              "      <td>3.26</td>\n",
              "      <td>0.65</td>\n",
              "      <td>9.8</td>\n",
              "      <td>5</td>\n",
              "    </tr>\n",
              "    <tr>\n",
              "      <th>3</th>\n",
              "      <td>11.2</td>\n",
              "      <td>0.28</td>\n",
              "      <td>0.56</td>\n",
              "      <td>1.9</td>\n",
              "      <td>0.075</td>\n",
              "      <td>17.0</td>\n",
              "      <td>60.0</td>\n",
              "      <td>0.9980</td>\n",
              "      <td>3.16</td>\n",
              "      <td>0.58</td>\n",
              "      <td>9.8</td>\n",
              "      <td>6</td>\n",
              "    </tr>\n",
              "    <tr>\n",
              "      <th>4</th>\n",
              "      <td>7.4</td>\n",
              "      <td>0.70</td>\n",
              "      <td>0.00</td>\n",
              "      <td>1.9</td>\n",
              "      <td>0.076</td>\n",
              "      <td>11.0</td>\n",
              "      <td>34.0</td>\n",
              "      <td>0.9978</td>\n",
              "      <td>3.51</td>\n",
              "      <td>0.56</td>\n",
              "      <td>9.4</td>\n",
              "      <td>5</td>\n",
              "    </tr>\n",
              "  </tbody>\n",
              "</table>\n",
              "</div>"
            ],
            "text/plain": [
              "   fixed acidity  volatile acidity  citric acid  residual sugar  chlorides  \\\n",
              "0            7.4              0.70         0.00             1.9      0.076   \n",
              "1            7.8              0.88         0.00             2.6      0.098   \n",
              "2            7.8              0.76         0.04             2.3      0.092   \n",
              "3           11.2              0.28         0.56             1.9      0.075   \n",
              "4            7.4              0.70         0.00             1.9      0.076   \n",
              "\n",
              "   free sulfur dioxide  total sulfur dioxide  density    pH  sulphates  \\\n",
              "0                 11.0                  34.0   0.9978  3.51       0.56   \n",
              "1                 25.0                  67.0   0.9968  3.20       0.68   \n",
              "2                 15.0                  54.0   0.9970  3.26       0.65   \n",
              "3                 17.0                  60.0   0.9980  3.16       0.58   \n",
              "4                 11.0                  34.0   0.9978  3.51       0.56   \n",
              "\n",
              "   alcohol  quality  \n",
              "0      9.4        5  \n",
              "1      9.8        5  \n",
              "2      9.8        5  \n",
              "3      9.8        6  \n",
              "4      9.4        5  "
            ]
          },
          "execution_count": 4,
          "metadata": {},
          "output_type": "execute_result"
        }
      ],
      "source": [
        "data.head()"
      ]
    },
    {
      "cell_type": "code",
      "execution_count": null,
      "metadata": {
        "id": "jr023GjPCA3B",
        "outputId": "06fbe9f0-8c28-4d46-a89c-05b4a84ba34e"
      },
      "outputs": [
        {
          "data": {
            "text/plain": [
              "(1599, 12)"
            ]
          },
          "execution_count": 4,
          "metadata": {},
          "output_type": "execute_result"
        }
      ],
      "source": [
        "data.shape"
      ]
    },
    {
      "cell_type": "code",
      "execution_count": null,
      "metadata": {
        "id": "IFzH7XQhCA3C",
        "outputId": "41a1530f-8e62-4ab2-9f75-f49e52216ca5"
      },
      "outputs": [
        {
          "data": {
            "text/html": [
              "<div>\n",
              "<style scoped>\n",
              "    .dataframe tbody tr th:only-of-type {\n",
              "        vertical-align: middle;\n",
              "    }\n",
              "\n",
              "    .dataframe tbody tr th {\n",
              "        vertical-align: top;\n",
              "    }\n",
              "\n",
              "    .dataframe thead th {\n",
              "        text-align: right;\n",
              "    }\n",
              "</style>\n",
              "<table border=\"1\" class=\"dataframe\">\n",
              "  <thead>\n",
              "    <tr style=\"text-align: right;\">\n",
              "      <th></th>\n",
              "      <th>fixed acidity</th>\n",
              "      <th>volatile acidity</th>\n",
              "      <th>citric acid</th>\n",
              "      <th>residual sugar</th>\n",
              "      <th>chlorides</th>\n",
              "      <th>free sulfur dioxide</th>\n",
              "      <th>total sulfur dioxide</th>\n",
              "      <th>density</th>\n",
              "      <th>pH</th>\n",
              "      <th>sulphates</th>\n",
              "      <th>alcohol</th>\n",
              "      <th>quality</th>\n",
              "    </tr>\n",
              "  </thead>\n",
              "  <tbody>\n",
              "    <tr>\n",
              "      <th>count</th>\n",
              "      <td>1599.000000</td>\n",
              "      <td>1599.000000</td>\n",
              "      <td>1599.000000</td>\n",
              "      <td>1599.000000</td>\n",
              "      <td>1599.000000</td>\n",
              "      <td>1599.000000</td>\n",
              "      <td>1599.000000</td>\n",
              "      <td>1599.000000</td>\n",
              "      <td>1599.000000</td>\n",
              "      <td>1599.000000</td>\n",
              "      <td>1599.000000</td>\n",
              "      <td>1599.000000</td>\n",
              "    </tr>\n",
              "    <tr>\n",
              "      <th>mean</th>\n",
              "      <td>8.319637</td>\n",
              "      <td>0.527821</td>\n",
              "      <td>0.270976</td>\n",
              "      <td>2.538806</td>\n",
              "      <td>0.087467</td>\n",
              "      <td>15.874922</td>\n",
              "      <td>46.467792</td>\n",
              "      <td>0.996747</td>\n",
              "      <td>3.311113</td>\n",
              "      <td>0.658149</td>\n",
              "      <td>10.422983</td>\n",
              "      <td>5.636023</td>\n",
              "    </tr>\n",
              "    <tr>\n",
              "      <th>std</th>\n",
              "      <td>1.741096</td>\n",
              "      <td>0.179060</td>\n",
              "      <td>0.194801</td>\n",
              "      <td>1.409928</td>\n",
              "      <td>0.047065</td>\n",
              "      <td>10.460157</td>\n",
              "      <td>32.895324</td>\n",
              "      <td>0.001887</td>\n",
              "      <td>0.154386</td>\n",
              "      <td>0.169507</td>\n",
              "      <td>1.065668</td>\n",
              "      <td>0.807569</td>\n",
              "    </tr>\n",
              "    <tr>\n",
              "      <th>min</th>\n",
              "      <td>4.600000</td>\n",
              "      <td>0.120000</td>\n",
              "      <td>0.000000</td>\n",
              "      <td>0.900000</td>\n",
              "      <td>0.012000</td>\n",
              "      <td>1.000000</td>\n",
              "      <td>6.000000</td>\n",
              "      <td>0.990070</td>\n",
              "      <td>2.740000</td>\n",
              "      <td>0.330000</td>\n",
              "      <td>8.400000</td>\n",
              "      <td>3.000000</td>\n",
              "    </tr>\n",
              "    <tr>\n",
              "      <th>25%</th>\n",
              "      <td>7.100000</td>\n",
              "      <td>0.390000</td>\n",
              "      <td>0.090000</td>\n",
              "      <td>1.900000</td>\n",
              "      <td>0.070000</td>\n",
              "      <td>7.000000</td>\n",
              "      <td>22.000000</td>\n",
              "      <td>0.995600</td>\n",
              "      <td>3.210000</td>\n",
              "      <td>0.550000</td>\n",
              "      <td>9.500000</td>\n",
              "      <td>5.000000</td>\n",
              "    </tr>\n",
              "    <tr>\n",
              "      <th>50%</th>\n",
              "      <td>7.900000</td>\n",
              "      <td>0.520000</td>\n",
              "      <td>0.260000</td>\n",
              "      <td>2.200000</td>\n",
              "      <td>0.079000</td>\n",
              "      <td>14.000000</td>\n",
              "      <td>38.000000</td>\n",
              "      <td>0.996750</td>\n",
              "      <td>3.310000</td>\n",
              "      <td>0.620000</td>\n",
              "      <td>10.200000</td>\n",
              "      <td>6.000000</td>\n",
              "    </tr>\n",
              "    <tr>\n",
              "      <th>75%</th>\n",
              "      <td>9.200000</td>\n",
              "      <td>0.640000</td>\n",
              "      <td>0.420000</td>\n",
              "      <td>2.600000</td>\n",
              "      <td>0.090000</td>\n",
              "      <td>21.000000</td>\n",
              "      <td>62.000000</td>\n",
              "      <td>0.997835</td>\n",
              "      <td>3.400000</td>\n",
              "      <td>0.730000</td>\n",
              "      <td>11.100000</td>\n",
              "      <td>6.000000</td>\n",
              "    </tr>\n",
              "    <tr>\n",
              "      <th>max</th>\n",
              "      <td>15.900000</td>\n",
              "      <td>1.580000</td>\n",
              "      <td>1.000000</td>\n",
              "      <td>15.500000</td>\n",
              "      <td>0.611000</td>\n",
              "      <td>72.000000</td>\n",
              "      <td>289.000000</td>\n",
              "      <td>1.003690</td>\n",
              "      <td>4.010000</td>\n",
              "      <td>2.000000</td>\n",
              "      <td>14.900000</td>\n",
              "      <td>8.000000</td>\n",
              "    </tr>\n",
              "  </tbody>\n",
              "</table>\n",
              "</div>"
            ],
            "text/plain": [
              "       fixed acidity  volatile acidity  citric acid  residual sugar  \\\n",
              "count    1599.000000       1599.000000  1599.000000     1599.000000   \n",
              "mean        8.319637          0.527821     0.270976        2.538806   \n",
              "std         1.741096          0.179060     0.194801        1.409928   \n",
              "min         4.600000          0.120000     0.000000        0.900000   \n",
              "25%         7.100000          0.390000     0.090000        1.900000   \n",
              "50%         7.900000          0.520000     0.260000        2.200000   \n",
              "75%         9.200000          0.640000     0.420000        2.600000   \n",
              "max        15.900000          1.580000     1.000000       15.500000   \n",
              "\n",
              "         chlorides  free sulfur dioxide  total sulfur dioxide      density  \\\n",
              "count  1599.000000          1599.000000           1599.000000  1599.000000   \n",
              "mean      0.087467            15.874922             46.467792     0.996747   \n",
              "std       0.047065            10.460157             32.895324     0.001887   \n",
              "min       0.012000             1.000000              6.000000     0.990070   \n",
              "25%       0.070000             7.000000             22.000000     0.995600   \n",
              "50%       0.079000            14.000000             38.000000     0.996750   \n",
              "75%       0.090000            21.000000             62.000000     0.997835   \n",
              "max       0.611000            72.000000            289.000000     1.003690   \n",
              "\n",
              "                pH    sulphates      alcohol      quality  \n",
              "count  1599.000000  1599.000000  1599.000000  1599.000000  \n",
              "mean      3.311113     0.658149    10.422983     5.636023  \n",
              "std       0.154386     0.169507     1.065668     0.807569  \n",
              "min       2.740000     0.330000     8.400000     3.000000  \n",
              "25%       3.210000     0.550000     9.500000     5.000000  \n",
              "50%       3.310000     0.620000    10.200000     6.000000  \n",
              "75%       3.400000     0.730000    11.100000     6.000000  \n",
              "max       4.010000     2.000000    14.900000     8.000000  "
            ]
          },
          "execution_count": 5,
          "metadata": {},
          "output_type": "execute_result"
        }
      ],
      "source": [
        "data.describe()"
      ]
    },
    {
      "cell_type": "code",
      "execution_count": null,
      "metadata": {
        "id": "_EFstNWPCA3C",
        "outputId": "eda56e6c-2e1d-4670-e191-65e12dfeb7e3"
      },
      "outputs": [
        {
          "name": "stdout",
          "output_type": "stream",
          "text": [
            "<class 'pandas.core.frame.DataFrame'>\n",
            "RangeIndex: 1599 entries, 0 to 1598\n",
            "Data columns (total 12 columns):\n",
            " #   Column                Non-Null Count  Dtype  \n",
            "---  ------                --------------  -----  \n",
            " 0   fixed acidity         1599 non-null   float64\n",
            " 1   volatile acidity      1599 non-null   float64\n",
            " 2   citric acid           1599 non-null   float64\n",
            " 3   residual sugar        1599 non-null   float64\n",
            " 4   chlorides             1599 non-null   float64\n",
            " 5   free sulfur dioxide   1599 non-null   float64\n",
            " 6   total sulfur dioxide  1599 non-null   float64\n",
            " 7   density               1599 non-null   float64\n",
            " 8   pH                    1599 non-null   float64\n",
            " 9   sulphates             1599 non-null   float64\n",
            " 10  alcohol               1599 non-null   float64\n",
            " 11  quality               1599 non-null   int64  \n",
            "dtypes: float64(11), int64(1)\n",
            "memory usage: 150.0 KB\n"
          ]
        }
      ],
      "source": [
        "data.info()"
      ]
    },
    {
      "cell_type": "markdown",
      "metadata": {
        "id": "U9uGFNs3CA3D"
      },
      "source": [
        "--> Insight 1: No missing values and ALL the prediction variables are NUMERICIAL "
      ]
    },
    {
      "cell_type": "markdown",
      "metadata": {
        "id": "RdeI9W6CCA3D"
      },
      "source": [
        "**II. Exploratory Data Analysis (EDA)**"
      ]
    },
    {
      "cell_type": "markdown",
      "metadata": {
        "id": "WMTa4z5ACA3E"
      },
      "source": [
        "We will discover 3 groups of characteristics of red wine \n",
        "- Acids: fixed acidity, volatile acidity, citric acid, pH \n",
        "- Flavors: residual sugar, chlorides, density, alcohol\n",
        "- Preservatives: sulphates, free sulfure dioxide, total sulfure dioxide"
      ]
    },
    {
      "cell_type": "markdown",
      "metadata": {
        "id": "qM22hmthCA3F"
      },
      "source": [
        "1. Acids "
      ]
    },
    {
      "cell_type": "markdown",
      "metadata": {
        "id": "1INCyl8tCA3F"
      },
      "source": [
        "1.1. Fixed Acidity "
      ]
    },
    {
      "cell_type": "code",
      "execution_count": null,
      "metadata": {
        "id": "LLWNptinCA3F",
        "outputId": "5e5534f7-0897-4b51-f30d-53e6d0344cc4"
      },
      "outputs": [
        {
          "data": {
            "text/plain": [
              "<AxesSubplot:ylabel='Density'>"
            ]
          },
          "execution_count": 7,
          "metadata": {},
          "output_type": "execute_result"
        },
        {
          "data": {
            "image/png": "[encoded data removed]",
            "text/plain": [
              "<Figure size 432x288 with 1 Axes>"
            ]
          },
          "metadata": {
            "needs_background": "light"
          },
          "output_type": "display_data"
        }
      ],
      "source": [
        "sns.distplot(x=data['fixed acidity'], fit=norm)"
      ]
    },
    {
      "cell_type": "code",
      "execution_count": null,
      "metadata": {
        "id": "VWuKHtwbCA3G",
        "outputId": "b69ea249-e0c9-4e5f-8ed3-a8cf4ff5a80e"
      },
      "outputs": [
        {
          "data": {
            "text/plain": [
              "<AxesSubplot:xlabel='quality', ylabel='fixed acidity'>"
            ]
          },
          "execution_count": 8,
          "metadata": {},
          "output_type": "execute_result"
        },
        {
          "data": {
            "image/png": "[encoded data removed]",
            "text/plain": [
              "<Figure size 432x288 with 1 Axes>"
            ]
          },
          "metadata": {
            "needs_background": "light"
          },
          "output_type": "display_data"
        }
      ],
      "source": [
        "sns.boxplot(x=\"quality\", y=\"fixed acidity\", palette='viridis', data=data)\n"
      ]
    },
    {
      "cell_type": "markdown",
      "metadata": {
        "id": "zXRdUbk1CA3G"
      },
      "source": [
        "--> We see that the distributions of fixed acidity between the different quality categories have a significant overlap, and so fixed acidity would not be a good predictor of quality. However, we can see that high-quality wines have somewhat higher fixed acidity levels. In a high quality wine the fixed acidic levels higher than 8g/L but less than 13g/L."
      ]
    },
    {
      "cell_type": "code",
      "execution_count": null,
      "metadata": {
        "id": "_a6B_DK-CA3H",
        "outputId": "7c321e07-d08b-41c6-e644-1c0d0afda520"
      },
      "outputs": [
        {
          "name": "stdout",
          "output_type": "stream",
          "text": [
            "The Pearson Correlation Coefficient is 0.12405164911322429  with a P-value of P = 6.495635009282964e-07\n"
          ]
        }
      ],
      "source": [
        "pearson_coef, p_value = stats.pearsonr(data['fixed acidity'], data['quality'])\n",
        "print(\"The Pearson Correlation Coefficient is\", pearson_coef, \" with a P-value of P =\", p_value)"
      ]
    },
    {
      "cell_type": "markdown",
      "metadata": {
        "id": "p811LhWeCA3I"
      },
      "source": [
        "1.2. Volatile Acidity "
      ]
    },
    {
      "cell_type": "code",
      "execution_count": null,
      "metadata": {
        "id": "bTgENjRSCA3K",
        "outputId": "246d85f9-8b7a-4b05-e932-e886bed93faa"
      },
      "outputs": [
        {
          "data": {
            "text/plain": [
              "<AxesSubplot:ylabel='Density'>"
            ]
          },
          "execution_count": 10,
          "metadata": {},
          "output_type": "execute_result"
        },
        {
          "data": {
            "image/png": "[encoded data removed]",
            "text/plain": [
              "<Figure size 432x288 with 1 Axes>"
            ]
          },
          "metadata": {
            "needs_background": "light"
          },
          "output_type": "display_data"
        }
      ],
      "source": [
        "sns.distplot(x=data['volatile acidity'], fit=norm)"
      ]
    },
    {
      "cell_type": "code",
      "execution_count": null,
      "metadata": {
        "id": "ZUM67wbuCA3K",
        "outputId": "318de6e4-1b09-4c41-c512-698ad8c48ffe"
      },
      "outputs": [
        {
          "data": {
            "text/plain": [
              "<AxesSubplot:xlabel='quality', ylabel='volatile acidity'>"
            ]
          },
          "execution_count": 11,
          "metadata": {},
          "output_type": "execute_result"
        },
        {
          "data": {
            "image/png": "[encoded data removed]",
            "text/plain": [
              "<Figure size 432x288 with 1 Axes>"
            ]
          },
          "metadata": {
            "needs_background": "light"
          },
          "output_type": "display_data"
        }
      ],
      "source": [
        "sns.boxplot(x=\"quality\", y=\"volatile acidity\", palette='viridis', data=data)"
      ]
    },
    {
      "cell_type": "markdown",
      "metadata": {
        "id": "CLWhMSdvCA3L"
      },
      "source": [
        "--> It is clear from the analysis that extreme volatile acidity levels can be pursued as a characteristic that affects the quality of the wine. A high quality wine has VA level at an average between 0.3-0.5g/L.\n",
        "\n",
        "Definition: Volatile acidity (VA) is a measure of the wine's volatile (or gaseous) acids. The primary volatile acid in wine is acetic acid, which is also the primary acid associated with the smell and taste of vinegar. Therefore, this can be referred to as an unpleasant characteristic of wine. "
      ]
    },
    {
      "cell_type": "code",
      "execution_count": null,
      "metadata": {
        "id": "-9P8jf5cCA3L",
        "outputId": "0f05a381-39bb-424f-b3aa-d48a365ff8eb"
      },
      "outputs": [
        {
          "name": "stdout",
          "output_type": "stream",
          "text": [
            "The Pearson Correlation Coefficient is -0.39055778026400717  with a P-value of P = 2.0517148070151443e-59\n"
          ]
        }
      ],
      "source": [
        "pearson_coef, p_value = stats.pearsonr(data['volatile acidity'], data['quality'])\n",
        "print(\"The Pearson Correlation Coefficient is\", pearson_coef, \" with a P-value of P =\", p_value)"
      ]
    },
    {
      "cell_type": "markdown",
      "metadata": {
        "id": "K7nJ-iD_CA3M"
      },
      "source": [
        "1.3. Citric Acid"
      ]
    },
    {
      "cell_type": "code",
      "execution_count": null,
      "metadata": {
        "id": "oNMpUxyyCA3N",
        "outputId": "eb5534e0-ffeb-4197-8a00-6f42ae7d77ab"
      },
      "outputs": [
        {
          "data": {
            "text/plain": [
              "<AxesSubplot:ylabel='Density'>"
            ]
          },
          "execution_count": 13,
          "metadata": {},
          "output_type": "execute_result"
        },
        {
          "data": {
            "image/png": "[encoded data removed]",
            "text/plain": [
              "<Figure size 432x288 with 1 Axes>"
            ]
          },
          "metadata": {
            "needs_background": "light"
          },
          "output_type": "display_data"
        }
      ],
      "source": [
        "sns.distplot(x=data['citric acid'], fit=norm)"
      ]
    },
    {
      "cell_type": "code",
      "execution_count": null,
      "metadata": {
        "id": "LigbTe7-CA3O",
        "outputId": "047a43ff-2c35-4677-d907-54991995d38c"
      },
      "outputs": [
        {
          "data": {
            "text/plain": [
              "<AxesSubplot:xlabel='quality', ylabel='citric acid'>"
            ]
          },
          "execution_count": 14,
          "metadata": {},
          "output_type": "execute_result"
        },
        {
          "data": {
            "image/png": "[encoded data removed]",
            "text/plain": [
              "<Figure size 432x288 with 1 Axes>"
            ]
          },
          "metadata": {
            "needs_background": "light"
          },
          "output_type": "display_data"
        }
      ],
      "source": [
        "sns.boxplot(x=\"quality\", y=\"citric acid\", palette='viridis', data=data)"
      ]
    },
    {
      "cell_type": "markdown",
      "metadata": {
        "id": "8KZhUNwpCA3P"
      },
      "source": [
        "--> Adding citric acid will give the wine “freshness”. Therefore, In a high quality wine bottle the citric acid level would be at an average level between 0.3-0.6 g/L."
      ]
    },
    {
      "cell_type": "code",
      "execution_count": null,
      "metadata": {
        "id": "TnxHJY0HCA3P",
        "outputId": "03032a15-a11b-45d9-81a1-e6380e3362c6"
      },
      "outputs": [
        {
          "name": "stdout",
          "output_type": "stream",
          "text": [
            "The Pearson Correlation Coefficient is 0.2263725143180414  with a P-value of P = 4.9912952505121016e-20\n"
          ]
        }
      ],
      "source": [
        "pearson_coef, p_value = stats.pearsonr(data['citric acid'], data['quality'])\n",
        "print(\"The Pearson Correlation Coefficient is\", pearson_coef, \" with a P-value of P =\", p_value)"
      ]
    },
    {
      "cell_type": "markdown",
      "metadata": {
        "id": "XZs9Rwz7CA3Q"
      },
      "source": [
        "1.4. pH level "
      ]
    },
    {
      "cell_type": "code",
      "execution_count": null,
      "metadata": {
        "id": "uRYJt9HDCA3R",
        "outputId": "c0c7f3ed-f373-4fe6-b3bc-e07050437baf"
      },
      "outputs": [
        {
          "data": {
            "text/plain": [
              "<AxesSubplot:ylabel='Density'>"
            ]
          },
          "execution_count": 16,
          "metadata": {},
          "output_type": "execute_result"
        },
        {
          "data": {
            "image/png": "[encoded data removed]",
            "text/plain": [
              "<Figure size 432x288 with 1 Axes>"
            ]
          },
          "metadata": {
            "needs_background": "light"
          },
          "output_type": "display_data"
        }
      ],
      "source": [
        "sns.distplot(x=data['pH'], fit=norm)"
      ]
    },
    {
      "cell_type": "code",
      "execution_count": null,
      "metadata": {
        "id": "oKgrAPFcCA3R",
        "outputId": "519071df-4141-4e34-b81c-d73f2cf13722"
      },
      "outputs": [
        {
          "data": {
            "text/plain": [
              "<AxesSubplot:xlabel='quality', ylabel='pH'>"
            ]
          },
          "execution_count": 17,
          "metadata": {},
          "output_type": "execute_result"
        },
        {
          "data": {
            "image/png": "[encoded data removed]",
            "text/plain": [
              "<Figure size 432x288 with 1 Axes>"
            ]
          },
          "metadata": {
            "needs_background": "light"
          },
          "output_type": "display_data"
        }
      ],
      "source": [
        "sns.boxplot(x=\"quality\", y=\"pH\", palette='viridis', data=data)"
      ]
    },
    {
      "cell_type": "markdown",
      "metadata": {
        "id": "YPpUtQHHCA3R"
      },
      "source": [
        "a pH value of 3.20-3.30 would be ideal for high quality wine. This will in turn allow the wine to have a crisper and tart taste than a low acidic wine which has a smoother rounder feeling."
      ]
    },
    {
      "cell_type": "code",
      "execution_count": null,
      "metadata": {
        "id": "5Gi3PFYICA3S",
        "outputId": "bc66f49a-8824-41d7-e2b2-8cce130ec086"
      },
      "outputs": [
        {
          "name": "stdout",
          "output_type": "stream",
          "text": [
            "The Pearson Correlation Coefficient is -0.05773139120538215  with a P-value of P = 0.020962778651490887\n"
          ]
        }
      ],
      "source": [
        "pearson_coef, p_value = stats.pearsonr(data['pH'], data['quality'])\n",
        "print(\"The Pearson Correlation Coefficient is\", pearson_coef, \" with a P-value of P =\", p_value)"
      ]
    },
    {
      "cell_type": "markdown",
      "metadata": {
        "id": "j0y4_ajBCA3S"
      },
      "source": [
        "2. Flavors "
      ]
    },
    {
      "cell_type": "markdown",
      "metadata": {
        "id": "uMOrohhnCA3S"
      },
      "source": [
        "2.1. Residual Sugar "
      ]
    },
    {
      "cell_type": "code",
      "execution_count": null,
      "metadata": {
        "id": "UabOXX2tCA3S",
        "outputId": "8c981857-ab44-46a4-852d-50491d8378bc"
      },
      "outputs": [
        {
          "data": {
            "text/plain": [
              "<AxesSubplot:ylabel='Density'>"
            ]
          },
          "execution_count": 19,
          "metadata": {},
          "output_type": "execute_result"
        },
        {
          "data": {
            "image/png": "[encoded data removed]",
            "text/plain": [
              "<Figure size 432x288 with 1 Axes>"
            ]
          },
          "metadata": {
            "needs_background": "light"
          },
          "output_type": "display_data"
        }
      ],
      "source": [
        "sns.distplot(x=data['residual sugar'], fit=norm)"
      ]
    },
    {
      "cell_type": "code",
      "execution_count": null,
      "metadata": {
        "id": "xvcUAWcBCA3T",
        "outputId": "d4d5d1ba-00d7-45a5-cc9e-592e1c2dcbae"
      },
      "outputs": [
        {
          "data": {
            "text/plain": [
              "<AxesSubplot:xlabel='quality', ylabel='residual sugar'>"
            ]
          },
          "execution_count": 20,
          "metadata": {},
          "output_type": "execute_result"
        },
        {
          "data": {
            "image/png": "[encoded data removed]",
            "text/plain": [
              "<Figure size 432x288 with 1 Axes>"
            ]
          },
          "metadata": {
            "needs_background": "light"
          },
          "output_type": "display_data"
        }
      ],
      "source": [
        "sns.boxplot(x=\"quality\", y=\"residual sugar\", palette='viridis', data=data)"
      ]
    },
    {
      "cell_type": "markdown",
      "metadata": {
        "id": "XxMtCFonCA3T"
      },
      "source": [
        "We can see that very low-quality wines have a high amount of residual sugar. Even though residual sugars do not have a drastic effect on the quality of wine it is better to have a level below 2.5g/L"
      ]
    },
    {
      "cell_type": "code",
      "execution_count": null,
      "metadata": {
        "id": "h_uo0iaBCA3T",
        "outputId": "f48c582e-8f89-4783-b24a-4ebed9be531c"
      },
      "outputs": [
        {
          "name": "stdout",
          "output_type": "stream",
          "text": [
            "The Pearson Correlation Coefficient is 0.013731637340066292  with a P-value of P = 0.5832180131585295\n"
          ]
        }
      ],
      "source": [
        "pearson_coef, p_value = stats.pearsonr(data['residual sugar'], data['quality'])\n",
        "print(\"The Pearson Correlation Coefficient is\", pearson_coef, \" with a P-value of P =\", p_value)"
      ]
    },
    {
      "cell_type": "markdown",
      "metadata": {
        "id": "BpvfCLETCA3U"
      },
      "source": [
        "2.2. Chlorides "
      ]
    },
    {
      "cell_type": "code",
      "execution_count": null,
      "metadata": {
        "id": "DQ1AS4PUCA3U",
        "outputId": "0a639c7d-697c-4617-da0a-1680c7d61dc0"
      },
      "outputs": [
        {
          "data": {
            "text/plain": [
              "<AxesSubplot:ylabel='Density'>"
            ]
          },
          "execution_count": 22,
          "metadata": {},
          "output_type": "execute_result"
        },
        {
          "data": {
            "image/png": "[encoded data removed]",
            "text/plain": [
              "<Figure size 432x288 with 1 Axes>"
            ]
          },
          "metadata": {
            "needs_background": "light"
          },
          "output_type": "display_data"
        }
      ],
      "source": [
        "sns.distplot(x=data['chlorides'], fit=norm)"
      ]
    },
    {
      "cell_type": "code",
      "execution_count": null,
      "metadata": {
        "id": "GgjepjSkCA3U",
        "outputId": "f54ce38f-2fd2-4b94-d8da-7149d5962c53"
      },
      "outputs": [
        {
          "data": {
            "text/plain": [
              "<AxesSubplot:xlabel='quality', ylabel='chlorides'>"
            ]
          },
          "execution_count": 23,
          "metadata": {},
          "output_type": "execute_result"
        },
        {
          "data": {
            "image/png": "[encoded data removed]",
            "text/plain": [
              "<Figure size 432x288 with 1 Axes>"
            ]
          },
          "metadata": {
            "needs_background": "light"
          },
          "output_type": "display_data"
        }
      ],
      "source": [
        "sns.boxplot(x=\"quality\", y=\"chlorides\", palette='viridis', data=data)"
      ]
    },
    {
      "cell_type": "markdown",
      "metadata": {
        "id": "TpQ7a0RnCA3V"
      },
      "source": [
        "Chlorides are the amount of salt in the wine. They are used to help adjust acidity and taste. The study shows that chlorides and quality appear to have a negative relationship with red wine. This means high-quality wine contains less salt. Taking this fact from the analysis into consideration we can say that the chloride level between 75 mg/L to 80 mg/L is good for high quality wine."
      ]
    },
    {
      "cell_type": "code",
      "execution_count": null,
      "metadata": {
        "id": "Mb3-DmSmCA3V",
        "outputId": "c7a0ebe3-de32-4189-a4ba-197f455bfa1c"
      },
      "outputs": [
        {
          "name": "stdout",
          "output_type": "stream",
          "text": [
            "The Pearson Correlation Coefficient is -0.12890655993005265  with a P-value of P = 2.3133826540604773e-07\n"
          ]
        }
      ],
      "source": [
        "pearson_coef, p_value = stats.pearsonr(data['chlorides'], data['quality'])\n",
        "print(\"The Pearson Correlation Coefficient is\", pearson_coef, \" with a P-value of P =\", p_value)"
      ]
    },
    {
      "cell_type": "markdown",
      "metadata": {
        "id": "DsrtnbJjCA3W"
      },
      "source": [
        "2.3. Density "
      ]
    },
    {
      "cell_type": "code",
      "execution_count": null,
      "metadata": {
        "id": "FIs2sWQnCA3W",
        "outputId": "441c10fc-6735-4fc1-af61-419a61f217e5"
      },
      "outputs": [
        {
          "data": {
            "text/plain": [
              "<AxesSubplot:ylabel='Density'>"
            ]
          },
          "execution_count": 25,
          "metadata": {},
          "output_type": "execute_result"
        },
        {
          "data": {
            "image/png": "[encoded data removed]",
            "text/plain": [
              "<Figure size 432x288 with 1 Axes>"
            ]
          },
          "metadata": {
            "needs_background": "light"
          },
          "output_type": "display_data"
        }
      ],
      "source": [
        "sns.distplot(x=data['density'], fit=norm)"
      ]
    },
    {
      "cell_type": "code",
      "execution_count": null,
      "metadata": {
        "id": "Nd6AlfpCCA3W",
        "outputId": "3e323979-ec85-4af4-dd81-fe089d3ff182"
      },
      "outputs": [
        {
          "data": {
            "text/plain": [
              "<AxesSubplot:xlabel='quality', ylabel='density'>"
            ]
          },
          "execution_count": 26,
          "metadata": {},
          "output_type": "execute_result"
        },
        {
          "data": {
            "image/png": "[encoded data removed]",
            "text/plain": [
              "<Figure size 432x288 with 1 Axes>"
            ]
          },
          "metadata": {
            "needs_background": "light"
          },
          "output_type": "display_data"
        }
      ],
      "source": [
        "sns.boxplot(x=\"quality\", y=\"density\", palette='viridis', data=data)"
      ]
    },
    {
      "cell_type": "markdown",
      "metadata": {
        "id": "2NTjj5SvCA3X"
      },
      "source": [
        "The density of the wine is inversely proportional to the quality. The primary reason can be stated as the addition of sugar, alcohol, and other ingredients to enhance the quality of the wine. These supplementary ingredients can cause the density of the liquid to drop. Therefore, taking the above finding into consideration the mean density of the wine at around 0.996 g/cc will ensure a highquality product.\n"
      ]
    },
    {
      "cell_type": "code",
      "execution_count": null,
      "metadata": {
        "id": "LKJUEDkcCA3X",
        "outputId": "e41a17a8-75eb-41f8-cc85-d599791a65a3"
      },
      "outputs": [
        {
          "name": "stdout",
          "output_type": "stream",
          "text": [
            "The Pearson Correlation Coefficient is -0.17491922778334873  with a P-value of P = 1.8749566520116645e-12\n"
          ]
        }
      ],
      "source": [
        "pearson_coef, p_value = stats.pearsonr(data['density'], data['quality'])\n",
        "print(\"The Pearson Correlation Coefficient is\", pearson_coef, \" with a P-value of P =\", p_value)"
      ]
    },
    {
      "cell_type": "markdown",
      "metadata": {
        "id": "d-dzS3iKCA3X"
      },
      "source": [
        "2.4. Alcohol"
      ]
    },
    {
      "cell_type": "code",
      "execution_count": null,
      "metadata": {
        "id": "396FiT3MCA3Y",
        "outputId": "3e651330-4deb-4269-c362-96a7432a3478"
      },
      "outputs": [
        {
          "data": {
            "text/plain": [
              "<AxesSubplot:ylabel='Density'>"
            ]
          },
          "execution_count": 28,
          "metadata": {},
          "output_type": "execute_result"
        },
        {
          "data": {
            "image/png": "[encoded data removed]",
            "text/plain": [
              "<Figure size 432x288 with 1 Axes>"
            ]
          },
          "metadata": {
            "needs_background": "light"
          },
          "output_type": "display_data"
        }
      ],
      "source": [
        "sns.distplot(x=data['alcohol'], fit=norm)"
      ]
    },
    {
      "cell_type": "code",
      "execution_count": null,
      "metadata": {
        "id": "ihSu8hCsCA3Y",
        "outputId": "c97719a7-e0b0-449f-af4f-21665cda5b55"
      },
      "outputs": [
        {
          "data": {
            "text/plain": [
              "<AxesSubplot:xlabel='quality', ylabel='alcohol'>"
            ]
          },
          "execution_count": 29,
          "metadata": {},
          "output_type": "execute_result"
        },
        {
          "data": {
            "image/png": "[encoded data removed]",
            "text/plain": [
              "<Figure size 432x288 with 1 Axes>"
            ]
          },
          "metadata": {
            "needs_background": "light"
          },
          "output_type": "display_data"
        }
      ],
      "source": [
        "sns.boxplot(x=\"quality\", y=\"alcohol\", palette='viridis', data=data)"
      ]
    },
    {
      "cell_type": "markdown",
      "metadata": {
        "id": "z0hd4JR4CA3Y"
      },
      "source": [
        "A wine with a higher alcohol content will have a fuller, richer body, while a lower-level alcohol wine will taste lighter and more delicate on the palate."
      ]
    },
    {
      "cell_type": "code",
      "execution_count": null,
      "metadata": {
        "id": "Cb4OP3tcCA3Z",
        "outputId": "34f76b01-ac95-4b61-cf26-21cd54c945e4"
      },
      "outputs": [
        {
          "name": "stdout",
          "output_type": "stream",
          "text": [
            "The Pearson Correlation Coefficient is 0.47616632400113607  with a P-value of P = 2.831476974778582e-91\n"
          ]
        }
      ],
      "source": [
        "pearson_coef, p_value = stats.pearsonr(data['alcohol'], data['quality'])\n",
        "print(\"The Pearson Correlation Coefficient is\", pearson_coef, \" with a P-value of P =\", p_value)"
      ]
    },
    {
      "cell_type": "markdown",
      "metadata": {
        "id": "5S5C2MyPCA3Z"
      },
      "source": [
        "3. Preservatives "
      ]
    },
    {
      "cell_type": "markdown",
      "metadata": {
        "id": "J4KU1MybCA3a"
      },
      "source": [
        "3.1. Sulphates "
      ]
    },
    {
      "cell_type": "code",
      "execution_count": null,
      "metadata": {
        "id": "GMh1BDdaCA3b",
        "outputId": "5a0addbc-4e34-492f-8e40-b4bad7f70387"
      },
      "outputs": [
        {
          "data": {
            "text/plain": [
              "<AxesSubplot:ylabel='Density'>"
            ]
          },
          "execution_count": 31,
          "metadata": {},
          "output_type": "execute_result"
        },
        {
          "data": {
            "image/png": "[encoded data removed]",
            "text/plain": [
              "<Figure size 432x288 with 1 Axes>"
            ]
          },
          "metadata": {
            "needs_background": "light"
          },
          "output_type": "display_data"
        }
      ],
      "source": [
        "sns.distplot(x=data['sulphates'], fit=norm)"
      ]
    },
    {
      "cell_type": "code",
      "execution_count": null,
      "metadata": {
        "id": "u5qEH5E6CA3b",
        "outputId": "43f02ee9-a869-469c-e2e0-90d7edf34a29"
      },
      "outputs": [
        {
          "data": {
            "text/plain": [
              "<AxesSubplot:xlabel='quality', ylabel='sulphates'>"
            ]
          },
          "execution_count": 32,
          "metadata": {},
          "output_type": "execute_result"
        },
        {
          "data": {
            "image/png": "[encoded data removed]",
            "text/plain": [
              "<Figure size 432x288 with 1 Axes>"
            ]
          },
          "metadata": {
            "needs_background": "light"
          },
          "output_type": "display_data"
        }
      ],
      "source": [
        "sns.boxplot(x=\"quality\", y=\"sulphates\", palette='viridis', data=data)"
      ]
    },
    {
      "cell_type": "markdown",
      "metadata": {
        "id": "bB7POwhPCA3b"
      },
      "source": [
        "Definition: Sulfites are a group of chemical compounds found naturally in a variety of foods and beverages. They are artificially added as a preservative. Winemakers often use sulfites to help to minimize oxidation in wine and maintain its freshness. This in turn improves its taste and appearance."
      ]
    },
    {
      "cell_type": "code",
      "execution_count": null,
      "metadata": {
        "id": "AfxtSbjoCA3c",
        "outputId": "c4a76fe6-99ff-4d0c-ceb0-51cc98779f94"
      },
      "outputs": [
        {
          "name": "stdout",
          "output_type": "stream",
          "text": [
            "The Pearson Correlation Coefficient is 0.25139707906926123  with a P-value of P = 1.8020884534539657e-24\n"
          ]
        }
      ],
      "source": [
        "pearson_coef, p_value = stats.pearsonr(data['sulphates'], data['quality'])\n",
        "print(\"The Pearson Correlation Coefficient is\", pearson_coef, \" with a P-value of P =\", p_value)"
      ]
    },
    {
      "cell_type": "markdown",
      "metadata": {
        "id": "9khAZKHXCA3c"
      },
      "source": [
        "3.2. Free Sulfur Dioxide "
      ]
    },
    {
      "cell_type": "code",
      "execution_count": null,
      "metadata": {
        "id": "muM5Y0WdCA3c",
        "outputId": "6a554ac9-1f7b-4905-d5e6-3cee4537072c"
      },
      "outputs": [
        {
          "data": {
            "text/plain": [
              "<AxesSubplot:ylabel='Density'>"
            ]
          },
          "execution_count": 34,
          "metadata": {},
          "output_type": "execute_result"
        },
        {
          "data": {
            "image/png": "[encoded data removed]",
            "text/plain": [
              "<Figure size 432x288 with 1 Axes>"
            ]
          },
          "metadata": {
            "needs_background": "light"
          },
          "output_type": "display_data"
        }
      ],
      "source": [
        "sns.distplot(x=data['free sulfur dioxide'], fit=norm)"
      ]
    },
    {
      "cell_type": "code",
      "execution_count": null,
      "metadata": {
        "id": "hnoDKBOeCA3d",
        "outputId": "2e1a2263-6f4d-44ad-a827-fea6b5f9ae18"
      },
      "outputs": [
        {
          "data": {
            "text/plain": [
              "<AxesSubplot:xlabel='quality', ylabel='free sulfur dioxide'>"
            ]
          },
          "execution_count": 35,
          "metadata": {},
          "output_type": "execute_result"
        },
        {
          "data": {
            "image/png": "[encoded data removed]",
            "text/plain": [
              "<Figure size 432x288 with 1 Axes>"
            ]
          },
          "metadata": {
            "needs_background": "light"
          },
          "output_type": "display_data"
        }
      ],
      "source": [
        "sns.boxplot(x=\"quality\", y=\"free sulfur dioxide\", palette='viridis', data=data)"
      ]
    },
    {
      "cell_type": "markdown",
      "metadata": {
        "id": "GO2UAmyaCA3e"
      },
      "source": [
        "In winemaking, sulfur dioxide is added to control the process and serves many useful functions. For example, it acts as an enzyme inhibitor in musts to prevent the juice from browning. As a microbiological control agent, sulfur dioxide is added to the winemaking process to prevent oxidation in the finished product."
      ]
    },
    {
      "cell_type": "code",
      "execution_count": null,
      "metadata": {
        "id": "EkUB5QDHCA3e",
        "outputId": "5968c938-819a-4189-f3a4-5e2af3bb8166"
      },
      "outputs": [
        {
          "name": "stdout",
          "output_type": "stream",
          "text": [
            "The Pearson Correlation Coefficient is -0.050656057244276395  with a P-value of P = 0.042833979508175565\n"
          ]
        }
      ],
      "source": [
        "pearson_coef, p_value = stats.pearsonr(data['free sulfur dioxide'], data['quality'])\n",
        "print(\"The Pearson Correlation Coefficient is\", pearson_coef, \" with a P-value of P =\", p_value)"
      ]
    },
    {
      "cell_type": "markdown",
      "metadata": {
        "id": "RpKoDCDHCA3g"
      },
      "source": [
        "3.3. Total Sulfure Dioxide "
      ]
    },
    {
      "cell_type": "code",
      "execution_count": null,
      "metadata": {
        "id": "lB0T0IByCA3h",
        "outputId": "a8dc4ab9-8d4a-4a5a-caba-04b470ebda03"
      },
      "outputs": [
        {
          "data": {
            "text/plain": [
              "<AxesSubplot:ylabel='Density'>"
            ]
          },
          "execution_count": 37,
          "metadata": {},
          "output_type": "execute_result"
        },
        {
          "data": {
            "image/png": "[encoded data removed]",
            "text/plain": [
              "<Figure size 432x288 with 1 Axes>"
            ]
          },
          "metadata": {
            "needs_background": "light"
          },
          "output_type": "display_data"
        }
      ],
      "source": [
        "sns.distplot(x=data['total sulfur dioxide'], fit=norm)"
      ]
    },
    {
      "cell_type": "code",
      "execution_count": null,
      "metadata": {
        "id": "OzOjqjo0CA3i",
        "outputId": "c5da2380-17a1-4ae8-f9a1-d321ba8abb6e"
      },
      "outputs": [
        {
          "data": {
            "text/plain": [
              "<AxesSubplot:xlabel='quality', ylabel='total sulfur dioxide'>"
            ]
          },
          "execution_count": 38,
          "metadata": {},
          "output_type": "execute_result"
        },
        {
          "data": {
            "image/png": "[encoded data removed]",
            "text/plain": [
              "<Figure size 432x288 with 1 Axes>"
            ]
          },
          "metadata": {
            "needs_background": "light"
          },
          "output_type": "display_data"
        }
      ],
      "source": [
        "sns.boxplot(x=\"quality\", y=\"total sulfur dioxide\", palette='viridis', data=data)"
      ]
    },
    {
      "cell_type": "code",
      "execution_count": null,
      "metadata": {
        "id": "gUOni0AGCA3i",
        "outputId": "f6144fe5-5b58-41ff-f195-b29588195149"
      },
      "outputs": [
        {
          "name": "stdout",
          "output_type": "stream",
          "text": [
            "The Pearson Correlation Coefficient is -0.18510028892653785  with a P-value of P = 8.62170342366267e-14\n"
          ]
        }
      ],
      "source": [
        "pearson_coef, p_value = stats.pearsonr(data['total sulfur dioxide'], data['quality'])\n",
        "print(\"The Pearson Correlation Coefficient is\", pearson_coef, \" with a P-value of P =\", p_value)"
      ]
    },
    {
      "cell_type": "markdown",
      "metadata": {
        "id": "j9CcDZknCA3j"
      },
      "source": [
        "**CORRELATIONS**"
      ]
    },
    {
      "cell_type": "code",
      "execution_count": null,
      "metadata": {
        "id": "dyg62ShVCA3k",
        "outputId": "f40df6a9-4893-4182-9285-086d98481f6d"
      },
      "outputs": [
        {
          "data": {
            "image/png": "[encoded data removed]",
            "text/plain": [
              "<Figure size 1440x1440 with 2 Axes>"
            ]
          },
          "metadata": {
            "needs_background": "light"
          },
          "output_type": "display_data"
        }
      ],
      "source": [
        "correlation_matrix = data.corr()\n",
        "plt.figure(figsize=(20,20))\n",
        "sns.heatmap(correlation_matrix, cbar=True, fmt='.1f', annot=True, cmap='OrRd')\n",
        "plt.savefig('Correlation Heat map')"
      ]
    },
    {
      "cell_type": "markdown",
      "metadata": {
        "id": "vZIMWlkACA3l"
      },
      "source": [
        "**EDA INSIGHT CONCLUSIONS**"
      ]
    },
    {
      "cell_type": "markdown",
      "metadata": {
        "id": "duGwr4u0CA3q"
      },
      "source": [
        "#QUESTION 1: What are the TOP 5 major factors that influence the wine quality? "
      ]
    },
    {
      "cell_type": "markdown",
      "metadata": {
        "id": "WeVmmvvQCA3q"
      },
      "source": [
        "a. For the acids group: \n",
        "- Volatile Acid: strong negative correlation with quality (pearson cor = -0.39)\n",
        "- Citric Acid: moderate postive correlation with quality (pearson cor = 0.23)"
      ]
    },
    {
      "cell_type": "markdown",
      "metadata": {
        "id": "uXQ-jRZZCA3q"
      },
      "source": [
        "b. For the flavors group:\n",
        "- Alcohol: strong positive correlation with quality (pearson cor = 0.48)\n",
        "- Density: weak negative correlation with quality, yet still consider important for the prediction (pearson cor = -0.18)"
      ]
    },
    {
      "cell_type": "markdown",
      "metadata": {
        "id": "Bw28m1diCA3r"
      },
      "source": [
        "c. For the preservatives group: \n",
        "- sulphates: moderate postive correlation with quality (pearson cor = 0.25)\n"
      ]
    },
    {
      "cell_type": "markdown",
      "metadata": {
        "id": "TMjgheR-CA3r"
      },
      "source": [
        "#QUESTION 2: Are there any multicolinearity detected? "
      ]
    },
    {
      "cell_type": "markdown",
      "metadata": {
        "id": "5780oQDCCA3s"
      },
      "source": [
        "- pH, fixed acidity, citric acid: This is because features such as fixed acid, citric acids are part of features like pH value. (Smaller pH indicates acidity)"
      ]
    },
    {
      "cell_type": "code",
      "execution_count": null,
      "metadata": {
        "id": "Tr0R-XVCCA3s",
        "outputId": "6b06bd18-c702-4987-89df-49d24076e3c4"
      },
      "outputs": [
        {
          "data": {
            "text/html": [
              "<div>\n",
              "<style scoped>\n",
              "    .dataframe tbody tr th:only-of-type {\n",
              "        vertical-align: middle;\n",
              "    }\n",
              "\n",
              "    .dataframe tbody tr th {\n",
              "        vertical-align: top;\n",
              "    }\n",
              "\n",
              "    .dataframe thead th {\n",
              "        text-align: right;\n",
              "    }\n",
              "</style>\n",
              "<table border=\"1\" class=\"dataframe\">\n",
              "  <thead>\n",
              "    <tr style=\"text-align: right;\">\n",
              "      <th></th>\n",
              "      <th>pH</th>\n",
              "      <th>fixed acidity</th>\n",
              "      <th>citric acid</th>\n",
              "    </tr>\n",
              "  </thead>\n",
              "  <tbody>\n",
              "    <tr>\n",
              "      <th>pH</th>\n",
              "      <td>1.000000</td>\n",
              "      <td>-0.682978</td>\n",
              "      <td>-0.541904</td>\n",
              "    </tr>\n",
              "    <tr>\n",
              "      <th>fixed acidity</th>\n",
              "      <td>-0.682978</td>\n",
              "      <td>1.000000</td>\n",
              "      <td>0.671703</td>\n",
              "    </tr>\n",
              "    <tr>\n",
              "      <th>citric acid</th>\n",
              "      <td>-0.541904</td>\n",
              "      <td>0.671703</td>\n",
              "      <td>1.000000</td>\n",
              "    </tr>\n",
              "  </tbody>\n",
              "</table>\n",
              "</div>"
            ],
            "text/plain": [
              "                     pH  fixed acidity  citric acid\n",
              "pH             1.000000      -0.682978    -0.541904\n",
              "fixed acidity -0.682978       1.000000     0.671703\n",
              "citric acid   -0.541904       0.671703     1.000000"
            ]
          },
          "execution_count": 41,
          "metadata": {},
          "output_type": "execute_result"
        }
      ],
      "source": [
        "data[['pH', 'fixed acidity', 'citric acid']].corr()"
      ]
    },
    {
      "cell_type": "markdown",
      "metadata": {
        "id": "oZNV6YLvCA3t"
      },
      "source": [
        "- total sulfure dioxide and free sufure dioxide: This is because these two chemicals contain the same root of SO2 "
      ]
    },
    {
      "cell_type": "code",
      "execution_count": null,
      "metadata": {
        "id": "GheVweWZCA3t",
        "outputId": "5dc251f3-9cc0-41b2-b3bc-de149d0141e9"
      },
      "outputs": [
        {
          "data": {
            "text/html": [
              "<div>\n",
              "<style scoped>\n",
              "    .dataframe tbody tr th:only-of-type {\n",
              "        vertical-align: middle;\n",
              "    }\n",
              "\n",
              "    .dataframe tbody tr th {\n",
              "        vertical-align: top;\n",
              "    }\n",
              "\n",
              "    .dataframe thead th {\n",
              "        text-align: right;\n",
              "    }\n",
              "</style>\n",
              "<table border=\"1\" class=\"dataframe\">\n",
              "  <thead>\n",
              "    <tr style=\"text-align: right;\">\n",
              "      <th></th>\n",
              "      <th>total sulfur dioxide</th>\n",
              "      <th>free sulfur dioxide</th>\n",
              "    </tr>\n",
              "  </thead>\n",
              "  <tbody>\n",
              "    <tr>\n",
              "      <th>total sulfur dioxide</th>\n",
              "      <td>1.000000</td>\n",
              "      <td>0.667666</td>\n",
              "    </tr>\n",
              "    <tr>\n",
              "      <th>free sulfur dioxide</th>\n",
              "      <td>0.667666</td>\n",
              "      <td>1.000000</td>\n",
              "    </tr>\n",
              "  </tbody>\n",
              "</table>\n",
              "</div>"
            ],
            "text/plain": [
              "                      total sulfur dioxide  free sulfur dioxide\n",
              "total sulfur dioxide              1.000000             0.667666\n",
              "free sulfur dioxide               0.667666             1.000000"
            ]
          },
          "execution_count": 42,
          "metadata": {},
          "output_type": "execute_result"
        }
      ],
      "source": [
        "data[['total sulfur dioxide', 'free sulfur dioxide']].corr()"
      ]
    },
    {
      "cell_type": "markdown",
      "metadata": {
        "id": "UFcAe6ppCA3v"
      },
      "source": [
        "#QUESTION 3: What about outliers and skewness? "
      ]
    },
    {
      "cell_type": "markdown",
      "metadata": {
        "id": "gRpHdHYrCA3v"
      },
      "source": [
        "- Most features are right-skewed --> fix by boxcox\n",
        "- The dataset has been affected by outliers --> fix by dropping the outliers "
      ]
    },
    {
      "cell_type": "markdown",
      "metadata": {
        "id": "naEqZPchCA3v"
      },
      "source": [
        "**III. Data Preparation**"
      ]
    },
    {
      "cell_type": "markdown",
      "metadata": {
        "id": "AyzePgUYCA3y"
      },
      "source": [
        "3.1. Dealing with skewness "
      ]
    },
    {
      "cell_type": "code",
      "execution_count": null,
      "metadata": {
        "id": "FtDkeS3mCA3z"
      },
      "outputs": [],
      "source": [
        "data[\"fixed acidity\"], lam_fixed_acidity = boxcox(data[\"fixed acidity\"])"
      ]
    },
    {
      "cell_type": "code",
      "execution_count": null,
      "metadata": {
        "id": "xBnIfuMmCA30",
        "outputId": "393084c0-315c-47e6-a276-33d7b24e9152"
      },
      "outputs": [
        {
          "data": {
            "text/plain": [
              "Text(0.5, 1.0, 'fixed acidity Distplot')"
            ]
          },
          "execution_count": 44,
          "metadata": {},
          "output_type": "execute_result"
        },
        {
          "data": {
            "image/png": "[encoded data removed]",
            "text/plain": [
              "<Figure size 432x288 with 1 Axes>"
            ]
          },
          "metadata": {
            "needs_background": "light"
          },
          "output_type": "display_data"
        }
      ],
      "source": [
        "sns.distplot(data[\"fixed acidity\"], fit=norm, color=\"orange\")\n",
        "plt.title(\"fixed acidity Distplot\", color = \"darkred\")"
      ]
    },
    {
      "cell_type": "code",
      "execution_count": null,
      "metadata": {
        "id": "xMFmKLJzCA30"
      },
      "outputs": [],
      "source": [
        "data[\"residual sugar\"], lam_fixed_acidity = boxcox(data[\"residual sugar\"])\n",
        "data[\"chlorides\"], lam_fixed_acidity = boxcox(data[\"chlorides\"])\n",
        "data[\"free sulfur dioxide\"], lam_fixed_acidity = boxcox(data[\"free sulfur dioxide\"])\n",
        "data[\"total sulfur dioxide\"], lam_fixed_acidity = boxcox(data[\"total sulfur dioxide\"])\n",
        "data[\"sulphates\"], lam_fixed_acidity = boxcox(data[\"sulphates\"])\n",
        "data[\"alcohol\"], lam_fixed_acidity = boxcox(data[\"alcohol\"])"
      ]
    },
    {
      "cell_type": "code",
      "execution_count": null,
      "metadata": {
        "id": "JbBeeDhnCA30",
        "outputId": "4d09353a-916b-45c7-b8dd-a0982f0b45bb"
      },
      "outputs": [
        {
          "data": {
            "text/html": [
              "<div>\n",
              "<style scoped>\n",
              "    .dataframe tbody tr th:only-of-type {\n",
              "        vertical-align: middle;\n",
              "    }\n",
              "\n",
              "    .dataframe tbody tr th {\n",
              "        vertical-align: top;\n",
              "    }\n",
              "\n",
              "    .dataframe thead th {\n",
              "        text-align: right;\n",
              "    }\n",
              "</style>\n",
              "<table border=\"1\" class=\"dataframe\">\n",
              "  <thead>\n",
              "    <tr style=\"text-align: right;\">\n",
              "      <th></th>\n",
              "      <th>fixed acidity</th>\n",
              "      <th>volatile acidity</th>\n",
              "      <th>citric acid</th>\n",
              "      <th>residual sugar</th>\n",
              "      <th>chlorides</th>\n",
              "      <th>free sulfur dioxide</th>\n",
              "      <th>total sulfur dioxide</th>\n",
              "      <th>density</th>\n",
              "      <th>pH</th>\n",
              "      <th>sulphates</th>\n",
              "      <th>alcohol</th>\n",
              "      <th>quality</th>\n",
              "    </tr>\n",
              "  </thead>\n",
              "  <tbody>\n",
              "    <tr>\n",
              "      <th>count</th>\n",
              "      <td>1599.000000</td>\n",
              "      <td>1599.000000</td>\n",
              "      <td>1599.000000</td>\n",
              "      <td>1599.000000</td>\n",
              "      <td>1599.000000</td>\n",
              "      <td>1599.000000</td>\n",
              "      <td>1599.000000</td>\n",
              "      <td>1599.000000</td>\n",
              "      <td>1599.000000</td>\n",
              "      <td>1599.000000</td>\n",
              "      <td>1599.000000</td>\n",
              "      <td>1599.000000</td>\n",
              "    </tr>\n",
              "    <tr>\n",
              "      <th>mean</th>\n",
              "      <td>1.124656</td>\n",
              "      <td>0.527821</td>\n",
              "      <td>0.270976</td>\n",
              "      <td>0.513556</td>\n",
              "      <td>-4.763474</td>\n",
              "      <td>3.129049</td>\n",
              "      <td>3.965719</td>\n",
              "      <td>0.996747</td>\n",
              "      <td>3.311113</td>\n",
              "      <td>-0.609663</td>\n",
              "      <td>0.300524</td>\n",
              "      <td>5.636023</td>\n",
              "    </tr>\n",
              "    <tr>\n",
              "      <th>std</th>\n",
              "      <td>0.048393</td>\n",
              "      <td>0.179060</td>\n",
              "      <td>0.194801</td>\n",
              "      <td>0.110080</td>\n",
              "      <td>0.962770</td>\n",
              "      <td>0.985817</td>\n",
              "      <td>0.846175</td>\n",
              "      <td>0.001887</td>\n",
              "      <td>0.154386</td>\n",
              "      <td>0.340693</td>\n",
              "      <td>0.000039</td>\n",
              "      <td>0.807569</td>\n",
              "    </tr>\n",
              "    <tr>\n",
              "      <th>min</th>\n",
              "      <td>0.956497</td>\n",
              "      <td>0.120000</td>\n",
              "      <td>0.000000</td>\n",
              "      <td>-0.112192</td>\n",
              "      <td>-14.348451</td>\n",
              "      <td>0.000000</td>\n",
              "      <td>1.875723</td>\n",
              "      <td>0.990070</td>\n",
              "      <td>2.740000</td>\n",
              "      <td>-2.114887</td>\n",
              "      <td>0.300402</td>\n",
              "      <td>3.000000</td>\n",
              "    </tr>\n",
              "    <tr>\n",
              "      <th>25%</th>\n",
              "      <td>1.092298</td>\n",
              "      <td>0.390000</td>\n",
              "      <td>0.090000</td>\n",
              "      <td>0.450049</td>\n",
              "      <td>-5.192858</td>\n",
              "      <td>2.248371</td>\n",
              "      <td>3.346596</td>\n",
              "      <td>0.995600</td>\n",
              "      <td>3.210000</td>\n",
              "      <td>-0.835081</td>\n",
              "      <td>0.300488</td>\n",
              "      <td>5.000000</td>\n",
              "    </tr>\n",
              "    <tr>\n",
              "      <th>50%</th>\n",
              "      <td>1.120087</td>\n",
              "      <td>0.520000</td>\n",
              "      <td>0.260000</td>\n",
              "      <td>0.513157</td>\n",
              "      <td>-4.795645</td>\n",
              "      <td>3.215430</td>\n",
              "      <td>3.994882</td>\n",
              "      <td>0.996750</td>\n",
              "      <td>3.310000</td>\n",
              "      <td>-0.622818</td>\n",
              "      <td>0.300523</td>\n",
              "      <td>6.000000</td>\n",
              "    </tr>\n",
              "    <tr>\n",
              "      <th>75%</th>\n",
              "      <td>1.156455</td>\n",
              "      <td>0.640000</td>\n",
              "      <td>0.420000</td>\n",
              "      <td>0.572939</td>\n",
              "      <td>-4.391441</td>\n",
              "      <td>3.827881</td>\n",
              "      <td>4.591023</td>\n",
              "      <td>0.997835</td>\n",
              "      <td>3.400000</td>\n",
              "      <td>-0.373689</td>\n",
              "      <td>0.300556</td>\n",
              "      <td>6.000000</td>\n",
              "    </tr>\n",
              "    <tr>\n",
              "      <th>max</th>\n",
              "      <td>1.260365</td>\n",
              "      <td>1.580000</td>\n",
              "      <td>1.000000</td>\n",
              "      <td>0.813867</td>\n",
              "      <td>-0.552596</td>\n",
              "      <td>5.926269</td>\n",
              "      <td>6.564923</td>\n",
              "      <td>1.003690</td>\n",
              "      <td>4.010000</td>\n",
              "      <td>0.490605</td>\n",
              "      <td>0.300618</td>\n",
              "      <td>8.000000</td>\n",
              "    </tr>\n",
              "  </tbody>\n",
              "</table>\n",
              "</div>"
            ],
            "text/plain": [
              "       fixed acidity  volatile acidity  citric acid  residual sugar  \\\n",
              "count    1599.000000       1599.000000  1599.000000     1599.000000   \n",
              "mean        1.124656          0.527821     0.270976        0.513556   \n",
              "std         0.048393          0.179060     0.194801        0.110080   \n",
              "min         0.956497          0.120000     0.000000       -0.112192   \n",
              "25%         1.092298          0.390000     0.090000        0.450049   \n",
              "50%         1.120087          0.520000     0.260000        0.513157   \n",
              "75%         1.156455          0.640000     0.420000        0.572939   \n",
              "max         1.260365          1.580000     1.000000        0.813867   \n",
              "\n",
              "         chlorides  free sulfur dioxide  total sulfur dioxide      density  \\\n",
              "count  1599.000000          1599.000000           1599.000000  1599.000000   \n",
              "mean     -4.763474             3.129049              3.965719     0.996747   \n",
              "std       0.962770             0.985817              0.846175     0.001887   \n",
              "min     -14.348451             0.000000              1.875723     0.990070   \n",
              "25%      -5.192858             2.248371              3.346596     0.995600   \n",
              "50%      -4.795645             3.215430              3.994882     0.996750   \n",
              "75%      -4.391441             3.827881              4.591023     0.997835   \n",
              "max      -0.552596             5.926269              6.564923     1.003690   \n",
              "\n",
              "                pH    sulphates      alcohol      quality  \n",
              "count  1599.000000  1599.000000  1599.000000  1599.000000  \n",
              "mean      3.311113    -0.609663     0.300524     5.636023  \n",
              "std       0.154386     0.340693     0.000039     0.807569  \n",
              "min       2.740000    -2.114887     0.300402     3.000000  \n",
              "25%       3.210000    -0.835081     0.300488     5.000000  \n",
              "50%       3.310000    -0.622818     0.300523     6.000000  \n",
              "75%       3.400000    -0.373689     0.300556     6.000000  \n",
              "max       4.010000     0.490605     0.300618     8.000000  "
            ]
          },
          "execution_count": 46,
          "metadata": {},
          "output_type": "execute_result"
        }
      ],
      "source": [
        "data.describe()"
      ]
    },
    {
      "cell_type": "markdown",
      "metadata": {
        "id": "An2xisyjCA31"
      },
      "source": [
        "3.2. Dealing with outliers "
      ]
    },
    {
      "cell_type": "code",
      "execution_count": null,
      "metadata": {
        "id": "d_cDCAuiCA31"
      },
      "outputs": [],
      "source": [
        "def detect_outliers(df,features):\n",
        "    outlier_indices = []\n",
        "    \n",
        "    for c in features:\n",
        "        # 1st quartile\n",
        "        Q1 = np.percentile(df[c],25)\n",
        "        # 3st quartile\n",
        "        Q3 = np.percentile(df[c],75)\n",
        "        # IQR\n",
        "        IQR = Q3 - Q1\n",
        "        # Outlier Step\n",
        "        outlier_step = IQR * 1.5\n",
        "        # detect outlier and their indeces\n",
        "        outlier_list_col = df[(df[c] < Q1 - outlier_step) | (df[c] > Q3 + outlier_step)].index\n",
        "        # store indeces \n",
        "        outlier_indices.extend(outlier_list_col)\n",
        "        \n",
        "    outlier_indices = Counter(outlier_indices)\n",
        "    multiple_outliers = list(i for i, v in outlier_indices.items() if v > 1.5) \n",
        "    \n",
        "    return multiple_outliers"
      ]
    },
    {
      "cell_type": "code",
      "execution_count": null,
      "metadata": {
        "id": "9u6Ud3TvCA31",
        "outputId": "20fb022a-dfef-4d89-fc24-b6765c81abb2"
      },
      "outputs": [
        {
          "name": "stdout",
          "output_type": "stream",
          "text": [
            "number of outliers detected -->  51\n"
          ]
        },
        {
          "data": {
            "text/html": [
              "<div>\n",
              "<style scoped>\n",
              "    .dataframe tbody tr th:only-of-type {\n",
              "        vertical-align: middle;\n",
              "    }\n",
              "\n",
              "    .dataframe tbody tr th {\n",
              "        vertical-align: top;\n",
              "    }\n",
              "\n",
              "    .dataframe thead th {\n",
              "        text-align: right;\n",
              "    }\n",
              "</style>\n",
              "<table border=\"1\" class=\"dataframe\">\n",
              "  <thead>\n",
              "    <tr style=\"text-align: right;\">\n",
              "      <th></th>\n",
              "      <th>fixed acidity</th>\n",
              "      <th>volatile acidity</th>\n",
              "      <th>citric acid</th>\n",
              "      <th>residual sugar</th>\n",
              "      <th>chlorides</th>\n",
              "      <th>free sulfur dioxide</th>\n",
              "      <th>total sulfur dioxide</th>\n",
              "      <th>density</th>\n",
              "      <th>pH</th>\n",
              "      <th>sulphates</th>\n",
              "      <th>alcohol</th>\n",
              "      <th>quality</th>\n",
              "    </tr>\n",
              "  </thead>\n",
              "  <tbody>\n",
              "    <tr>\n",
              "      <th>45</th>\n",
              "      <td>0.956497</td>\n",
              "      <td>0.520</td>\n",
              "      <td>0.15</td>\n",
              "      <td>0.494302</td>\n",
              "      <td>-6.123025</td>\n",
              "      <td>2.427186</td>\n",
              "      <td>4.649352</td>\n",
              "      <td>0.99340</td>\n",
              "      <td>3.90</td>\n",
              "      <td>-0.801405</td>\n",
              "      <td>0.300598</td>\n",
              "      <td>4</td>\n",
              "    </tr>\n",
              "    <tr>\n",
              "      <th>94</th>\n",
              "      <td>0.985731</td>\n",
              "      <td>1.020</td>\n",
              "      <td>0.04</td>\n",
              "      <td>0.277689</td>\n",
              "      <td>-6.845807</td>\n",
              "      <td>4.920668</td>\n",
              "      <td>4.983161</td>\n",
              "      <td>0.99380</td>\n",
              "      <td>3.75</td>\n",
              "      <td>-1.111447</td>\n",
              "      <td>0.300535</td>\n",
              "      <td>4</td>\n",
              "    </tr>\n",
              "    <tr>\n",
              "      <th>95</th>\n",
              "      <td>0.964194</td>\n",
              "      <td>0.600</td>\n",
              "      <td>0.17</td>\n",
              "      <td>0.530233</td>\n",
              "      <td>-5.855781</td>\n",
              "      <td>3.504207</td>\n",
              "      <td>5.261323</td>\n",
              "      <td>0.99320</td>\n",
              "      <td>3.85</td>\n",
              "      <td>-0.678257</td>\n",
              "      <td>0.300595</td>\n",
              "      <td>6</td>\n",
              "    </tr>\n",
              "    <tr>\n",
              "      <th>442</th>\n",
              "      <td>1.257350</td>\n",
              "      <td>0.685</td>\n",
              "      <td>0.76</td>\n",
              "      <td>0.666360</td>\n",
              "      <td>-4.081922</td>\n",
              "      <td>2.046206</td>\n",
              "      <td>4.144017</td>\n",
              "      <td>1.00320</td>\n",
              "      <td>2.95</td>\n",
              "      <td>-0.476630</td>\n",
              "      <td>0.300559</td>\n",
              "      <td>7</td>\n",
              "    </tr>\n",
              "    <tr>\n",
              "      <th>553</th>\n",
              "      <td>0.985731</td>\n",
              "      <td>1.040</td>\n",
              "      <td>0.24</td>\n",
              "      <td>0.360736</td>\n",
              "      <td>-6.420787</td>\n",
              "      <td>4.503448</td>\n",
              "      <td>5.136097</td>\n",
              "      <td>0.99340</td>\n",
              "      <td>3.74</td>\n",
              "      <td>-0.622818</td>\n",
              "      <td>0.300567</td>\n",
              "      <td>5</td>\n",
              "    </tr>\n",
              "    <tr>\n",
              "      <th>554</th>\n",
              "      <td>1.256323</td>\n",
              "      <td>0.645</td>\n",
              "      <td>0.49</td>\n",
              "      <td>0.691490</td>\n",
              "      <td>-4.230744</td>\n",
              "      <td>2.733844</td>\n",
              "      <td>3.398654</td>\n",
              "      <td>1.00315</td>\n",
              "      <td>2.92</td>\n",
              "      <td>-0.354821</td>\n",
              "      <td>0.300556</td>\n",
              "      <td>5</td>\n",
              "    </tr>\n",
              "    <tr>\n",
              "      <th>555</th>\n",
              "      <td>1.256323</td>\n",
              "      <td>0.645</td>\n",
              "      <td>0.49</td>\n",
              "      <td>0.691490</td>\n",
              "      <td>-4.230744</td>\n",
              "      <td>2.733844</td>\n",
              "      <td>3.398654</td>\n",
              "      <td>1.00315</td>\n",
              "      <td>2.92</td>\n",
              "      <td>-0.354821</td>\n",
              "      <td>0.300556</td>\n",
              "      <td>5</td>\n",
              "    </tr>\n",
              "    <tr>\n",
              "      <th>557</th>\n",
              "      <td>1.257350</td>\n",
              "      <td>0.645</td>\n",
              "      <td>0.49</td>\n",
              "      <td>0.691490</td>\n",
              "      <td>-4.230744</td>\n",
              "      <td>2.733844</td>\n",
              "      <td>3.398654</td>\n",
              "      <td>1.00315</td>\n",
              "      <td>2.92</td>\n",
              "      <td>-0.354821</td>\n",
              "      <td>0.300556</td>\n",
              "      <td>5</td>\n",
              "    </tr>\n",
              "    <tr>\n",
              "      <th>588</th>\n",
              "      <td>0.985731</td>\n",
              "      <td>0.420</td>\n",
              "      <td>0.24</td>\n",
              "      <td>0.473382</td>\n",
              "      <td>-5.732018</td>\n",
              "      <td>3.673341</td>\n",
              "      <td>4.327250</td>\n",
              "      <td>0.99170</td>\n",
              "      <td>3.72</td>\n",
              "      <td>-0.354821</td>\n",
              "      <td>0.300610</td>\n",
              "      <td>8</td>\n",
              "    </tr>\n",
              "    <tr>\n",
              "      <th>652</th>\n",
              "      <td>1.260365</td>\n",
              "      <td>0.360</td>\n",
              "      <td>0.65</td>\n",
              "      <td>0.768664</td>\n",
              "      <td>-4.200078</td>\n",
              "      <td>3.900481</td>\n",
              "      <td>4.758716</td>\n",
              "      <td>0.99760</td>\n",
              "      <td>2.98</td>\n",
              "      <td>-0.191541</td>\n",
              "      <td>0.300618</td>\n",
              "      <td>5</td>\n",
              "    </tr>\n",
              "    <tr>\n",
              "      <th>695</th>\n",
              "      <td>0.992438</td>\n",
              "      <td>0.470</td>\n",
              "      <td>0.02</td>\n",
              "      <td>0.225628</td>\n",
              "      <td>-8.081545</td>\n",
              "      <td>3.590783</td>\n",
              "      <td>4.171856</td>\n",
              "      <td>0.99210</td>\n",
              "      <td>3.90</td>\n",
              "      <td>-0.622818</td>\n",
              "      <td>0.300593</td>\n",
              "      <td>6</td>\n",
              "    </tr>\n",
              "    <tr>\n",
              "      <th>802</th>\n",
              "      <td>0.992438</td>\n",
              "      <td>0.585</td>\n",
              "      <td>0.00</td>\n",
              "      <td>0.394331</td>\n",
              "      <td>-6.939143</td>\n",
              "      <td>3.215430</td>\n",
              "      <td>4.997818</td>\n",
              "      <td>0.99264</td>\n",
              "      <td>3.56</td>\n",
              "      <td>-0.063954</td>\n",
              "      <td>0.300595</td>\n",
              "      <td>7</td>\n",
              "    </tr>\n",
              "    <tr>\n",
              "      <th>821</th>\n",
              "      <td>0.978797</td>\n",
              "      <td>0.420</td>\n",
              "      <td>0.00</td>\n",
              "      <td>0.494302</td>\n",
              "      <td>-6.583035</td>\n",
              "      <td>3.413163</td>\n",
              "      <td>4.115556</td>\n",
              "      <td>0.99154</td>\n",
              "      <td>3.71</td>\n",
              "      <td>-0.354821</td>\n",
              "      <td>0.300610</td>\n",
              "      <td>7</td>\n",
              "    </tr>\n",
              "    <tr>\n",
              "      <th>1114</th>\n",
              "      <td>0.985731</td>\n",
              "      <td>0.400</td>\n",
              "      <td>0.50</td>\n",
              "      <td>0.695755</td>\n",
              "      <td>-6.755446</td>\n",
              "      <td>4.341848</td>\n",
              "      <td>4.907326</td>\n",
              "      <td>0.99020</td>\n",
              "      <td>3.49</td>\n",
              "      <td>-0.522316</td>\n",
              "      <td>0.300605</td>\n",
              "      <td>6</td>\n",
              "    </tr>\n",
              "    <tr>\n",
              "      <th>1157</th>\n",
              "      <td>0.992438</td>\n",
              "      <td>0.510</td>\n",
              "      <td>0.18</td>\n",
              "      <td>0.494302</td>\n",
              "      <td>-7.135430</td>\n",
              "      <td>3.413163</td>\n",
              "      <td>5.200182</td>\n",
              "      <td>0.99240</td>\n",
              "      <td>3.46</td>\n",
              "      <td>-0.150088</td>\n",
              "      <td>0.300595</td>\n",
              "      <td>7</td>\n",
              "    </tr>\n",
              "    <tr>\n",
              "      <th>1228</th>\n",
              "      <td>0.992438</td>\n",
              "      <td>0.420</td>\n",
              "      <td>0.00</td>\n",
              "      <td>0.423877</td>\n",
              "      <td>-6.939143</td>\n",
              "      <td>3.590783</td>\n",
              "      <td>5.026654</td>\n",
              "      <td>0.99157</td>\n",
              "      <td>3.68</td>\n",
              "      <td>-0.373689</td>\n",
              "      <td>0.300605</td>\n",
              "      <td>7</td>\n",
              "    </tr>\n",
              "    <tr>\n",
              "      <th>1270</th>\n",
              "      <td>0.985731</td>\n",
              "      <td>0.380</td>\n",
              "      <td>0.01</td>\n",
              "      <td>0.360736</td>\n",
              "      <td>-6.583035</td>\n",
              "      <td>4.165264</td>\n",
              "      <td>4.550629</td>\n",
              "      <td>0.99084</td>\n",
              "      <td>3.70</td>\n",
              "      <td>-0.336470</td>\n",
              "      <td>0.300610</td>\n",
              "      <td>6</td>\n",
              "    </tr>\n",
              "    <tr>\n",
              "      <th>1321</th>\n",
              "      <td>0.985731</td>\n",
              "      <td>0.740</td>\n",
              "      <td>0.00</td>\n",
              "      <td>0.164038</td>\n",
              "      <td>-7.238761</td>\n",
              "      <td>3.413163</td>\n",
              "      <td>4.225777</td>\n",
              "      <td>0.99258</td>\n",
              "      <td>4.01</td>\n",
              "      <td>-0.707430</td>\n",
              "      <td>0.300588</td>\n",
              "      <td>6</td>\n",
              "    </tr>\n",
              "    <tr>\n",
              "      <th>38</th>\n",
              "      <td>1.028501</td>\n",
              "      <td>1.130</td>\n",
              "      <td>0.09</td>\n",
              "      <td>0.322230</td>\n",
              "      <td>-2.704725</td>\n",
              "      <td>2.248371</td>\n",
              "      <td>3.175737</td>\n",
              "      <td>0.99400</td>\n",
              "      <td>3.50</td>\n",
              "      <td>-1.111447</td>\n",
              "      <td>0.300504</td>\n",
              "      <td>4</td>\n",
              "    </tr>\n",
              "    <tr>\n",
              "      <th>120</th>\n",
              "      <td>1.099721</td>\n",
              "      <td>1.070</td>\n",
              "      <td>0.09</td>\n",
              "      <td>0.394331</td>\n",
              "      <td>-2.628605</td>\n",
              "      <td>2.733844</td>\n",
              "      <td>5.040839</td>\n",
              "      <td>0.99620</td>\n",
              "      <td>3.30</td>\n",
              "      <td>-0.768947</td>\n",
              "      <td>0.300454</td>\n",
              "      <td>5</td>\n",
              "    </tr>\n",
              "    <tr>\n",
              "      <th>1299</th>\n",
              "      <td>1.110239</td>\n",
              "      <td>1.580</td>\n",
              "      <td>0.00</td>\n",
              "      <td>0.494302</td>\n",
              "      <td>-3.241203</td>\n",
              "      <td>1.812859</td>\n",
              "      <td>2.324372</td>\n",
              "      <td>0.99476</td>\n",
              "      <td>3.50</td>\n",
              "      <td>-1.550083</td>\n",
              "      <td>0.300549</td>\n",
              "      <td>3</td>\n",
              "    </tr>\n",
              "    <tr>\n",
              "      <th>151</th>\n",
              "      <td>1.156455</td>\n",
              "      <td>0.520</td>\n",
              "      <td>1.00</td>\n",
              "      <td>0.647378</td>\n",
              "      <td>-0.554649</td>\n",
              "      <td>4.503448</td>\n",
              "      <td>4.723270</td>\n",
              "      <td>0.99960</td>\n",
              "      <td>2.74</td>\n",
              "      <td>0.490605</td>\n",
              "      <td>0.300482</td>\n",
              "      <td>4</td>\n",
              "    </tr>\n",
              "    <tr>\n",
              "      <th>198</th>\n",
              "      <td>1.011306</td>\n",
              "      <td>0.835</td>\n",
              "      <td>0.08</td>\n",
              "      <td>0.164038</td>\n",
              "      <td>-6.755446</td>\n",
              "      <td>3.107333</td>\n",
              "      <td>5.096107</td>\n",
              "      <td>0.99240</td>\n",
              "      <td>3.57</td>\n",
              "      <td>-0.177388</td>\n",
              "      <td>0.300597</td>\n",
              "      <td>7</td>\n",
              "    </tr>\n",
              "    <tr>\n",
              "      <th>324</th>\n",
              "      <td>1.174846</td>\n",
              "      <td>0.490</td>\n",
              "      <td>0.20</td>\n",
              "      <td>0.797229</td>\n",
              "      <td>-5.145129</td>\n",
              "      <td>3.107333</td>\n",
              "      <td>4.327250</td>\n",
              "      <td>1.00150</td>\n",
              "      <td>3.16</td>\n",
              "      <td>-0.454811</td>\n",
              "      <td>0.300469</td>\n",
              "      <td>6</td>\n",
              "    </tr>\n",
              "    <tr>\n",
              "      <th>325</th>\n",
              "      <td>1.174846</td>\n",
              "      <td>0.490</td>\n",
              "      <td>0.20</td>\n",
              "      <td>0.797229</td>\n",
              "      <td>-5.145129</td>\n",
              "      <td>3.107333</td>\n",
              "      <td>4.327250</td>\n",
              "      <td>1.00150</td>\n",
              "      <td>3.16</td>\n",
              "      <td>-0.454811</td>\n",
              "      <td>0.300469</td>\n",
              "      <td>6</td>\n",
              "    </tr>\n",
              "    <tr>\n",
              "      <th>480</th>\n",
              "      <td>1.187103</td>\n",
              "      <td>0.280</td>\n",
              "      <td>0.39</td>\n",
              "      <td>0.813867</td>\n",
              "      <td>-5.241591</td>\n",
              "      <td>2.046206</td>\n",
              "      <td>3.398654</td>\n",
              "      <td>1.00260</td>\n",
              "      <td>3.12</td>\n",
              "      <td>-0.522316</td>\n",
              "      <td>0.300469</td>\n",
              "      <td>5</td>\n",
              "    </tr>\n",
              "    <tr>\n",
              "      <th>1017</th>\n",
              "      <td>1.123232</td>\n",
              "      <td>0.180</td>\n",
              "      <td>0.37</td>\n",
              "      <td>-0.112192</td>\n",
              "      <td>-6.500704</td>\n",
              "      <td>4.699860</td>\n",
              "      <td>5.296706</td>\n",
              "      <td>0.99007</td>\n",
              "      <td>2.89</td>\n",
              "      <td>-1.310211</td>\n",
              "      <td>0.300592</td>\n",
              "      <td>6</td>\n",
              "    </tr>\n",
              "    <tr>\n",
              "      <th>1018</th>\n",
              "      <td>1.123232</td>\n",
              "      <td>0.180</td>\n",
              "      <td>0.37</td>\n",
              "      <td>-0.112192</td>\n",
              "      <td>-6.500704</td>\n",
              "      <td>4.699860</td>\n",
              "      <td>5.296706</td>\n",
              "      <td>0.99007</td>\n",
              "      <td>2.89</td>\n",
              "      <td>-1.310211</td>\n",
              "      <td>0.300592</td>\n",
              "      <td>6</td>\n",
              "    </tr>\n",
              "    <tr>\n",
              "      <th>1079</th>\n",
              "      <td>1.120087</td>\n",
              "      <td>0.300</td>\n",
              "      <td>0.68</td>\n",
              "      <td>0.777520</td>\n",
              "      <td>-6.420787</td>\n",
              "      <td>4.768721</td>\n",
              "      <td>6.513244</td>\n",
              "      <td>0.99316</td>\n",
              "      <td>3.01</td>\n",
              "      <td>-0.983425</td>\n",
              "      <td>0.300585</td>\n",
              "      <td>7</td>\n",
              "    </tr>\n",
              "    <tr>\n",
              "      <th>1081</th>\n",
              "      <td>1.120087</td>\n",
              "      <td>0.300</td>\n",
              "      <td>0.68</td>\n",
              "      <td>0.777520</td>\n",
              "      <td>-6.420787</td>\n",
              "      <td>4.768721</td>\n",
              "      <td>6.564923</td>\n",
              "      <td>0.99316</td>\n",
              "      <td>3.01</td>\n",
              "      <td>-0.983425</td>\n",
              "      <td>0.300585</td>\n",
              "      <td>7</td>\n",
              "    </tr>\n",
              "    <tr>\n",
              "      <th>1219</th>\n",
              "      <td>1.151434</td>\n",
              "      <td>0.390</td>\n",
              "      <td>0.40</td>\n",
              "      <td>0.225628</td>\n",
              "      <td>-6.939143</td>\n",
              "      <td>4.102521</td>\n",
              "      <td>4.327250</td>\n",
              "      <td>0.99478</td>\n",
              "      <td>3.20</td>\n",
              "      <td>-0.206045</td>\n",
              "      <td>0.300549</td>\n",
              "      <td>6</td>\n",
              "    </tr>\n",
              "    <tr>\n",
              "      <th>1316</th>\n",
              "      <td>1.011306</td>\n",
              "      <td>0.740</td>\n",
              "      <td>0.00</td>\n",
              "      <td>0.164038</td>\n",
              "      <td>-7.238761</td>\n",
              "      <td>3.413163</td>\n",
              "      <td>4.225777</td>\n",
              "      <td>0.99258</td>\n",
              "      <td>4.01</td>\n",
              "      <td>-0.707430</td>\n",
              "      <td>0.300588</td>\n",
              "      <td>6</td>\n",
              "    </tr>\n",
              "    <tr>\n",
              "      <th>1374</th>\n",
              "      <td>1.080486</td>\n",
              "      <td>0.815</td>\n",
              "      <td>0.00</td>\n",
              "      <td>0.164038</td>\n",
              "      <td>-1.813472</td>\n",
              "      <td>3.413163</td>\n",
              "      <td>3.672029</td>\n",
              "      <td>0.99471</td>\n",
              "      <td>3.32</td>\n",
              "      <td>-0.983425</td>\n",
              "      <td>0.300504</td>\n",
              "      <td>3</td>\n",
              "    </tr>\n",
              "    <tr>\n",
              "      <th>1434</th>\n",
              "      <td>1.179065</td>\n",
              "      <td>0.540</td>\n",
              "      <td>0.37</td>\n",
              "      <td>0.813611</td>\n",
              "      <td>-2.239528</td>\n",
              "      <td>5.435027</td>\n",
              "      <td>5.122900</td>\n",
              "      <td>1.00369</td>\n",
              "      <td>3.18</td>\n",
              "      <td>-0.301243</td>\n",
              "      <td>0.300454</td>\n",
              "      <td>6</td>\n",
              "    </tr>\n",
              "    <tr>\n",
              "      <th>1435</th>\n",
              "      <td>1.179065</td>\n",
              "      <td>0.540</td>\n",
              "      <td>0.37</td>\n",
              "      <td>0.813611</td>\n",
              "      <td>-2.239528</td>\n",
              "      <td>5.435027</td>\n",
              "      <td>5.122900</td>\n",
              "      <td>1.00369</td>\n",
              "      <td>3.18</td>\n",
              "      <td>-0.301243</td>\n",
              "      <td>0.300454</td>\n",
              "      <td>6</td>\n",
              "    </tr>\n",
              "    <tr>\n",
              "      <th>1474</th>\n",
              "      <td>1.172683</td>\n",
              "      <td>0.500</td>\n",
              "      <td>0.50</td>\n",
              "      <td>0.808966</td>\n",
              "      <td>-2.327377</td>\n",
              "      <td>5.193940</td>\n",
              "      <td>4.938186</td>\n",
              "      <td>1.00242</td>\n",
              "      <td>3.16</td>\n",
              "      <td>-0.336470</td>\n",
              "      <td>0.300439</td>\n",
              "      <td>5</td>\n",
              "    </tr>\n",
              "    <tr>\n",
              "      <th>1476</th>\n",
              "      <td>1.172683</td>\n",
              "      <td>0.500</td>\n",
              "      <td>0.50</td>\n",
              "      <td>0.808966</td>\n",
              "      <td>-2.327377</td>\n",
              "      <td>5.193940</td>\n",
              "      <td>4.938186</td>\n",
              "      <td>1.00242</td>\n",
              "      <td>3.16</td>\n",
              "      <td>-0.336470</td>\n",
              "      <td>0.300439</td>\n",
              "      <td>5</td>\n",
              "    </tr>\n",
              "    <tr>\n",
              "      <th>1558</th>\n",
              "      <td>1.084519</td>\n",
              "      <td>0.630</td>\n",
              "      <td>0.33</td>\n",
              "      <td>0.757479</td>\n",
              "      <td>-2.054009</td>\n",
              "      <td>5.765463</td>\n",
              "      <td>5.364782</td>\n",
              "      <td>0.99787</td>\n",
              "      <td>3.22</td>\n",
              "      <td>-0.801405</td>\n",
              "      <td>0.300488</td>\n",
              "      <td>5</td>\n",
              "    </tr>\n",
              "    <tr>\n",
              "      <th>142</th>\n",
              "      <td>0.998929</td>\n",
              "      <td>0.340</td>\n",
              "      <td>0.00</td>\n",
              "      <td>0.423877</td>\n",
              "      <td>-6.420787</td>\n",
              "      <td>4.225977</td>\n",
              "      <td>4.610758</td>\n",
              "      <td>0.99160</td>\n",
              "      <td>3.68</td>\n",
              "      <td>-0.267854</td>\n",
              "      <td>0.300610</td>\n",
              "      <td>6</td>\n",
              "    </tr>\n",
              "    <tr>\n",
              "      <th>144</th>\n",
              "      <td>0.998929</td>\n",
              "      <td>0.340</td>\n",
              "      <td>0.00</td>\n",
              "      <td>0.423877</td>\n",
              "      <td>-6.420787</td>\n",
              "      <td>4.225977</td>\n",
              "      <td>4.610758</td>\n",
              "      <td>0.99160</td>\n",
              "      <td>3.68</td>\n",
              "      <td>-0.267854</td>\n",
              "      <td>0.300610</td>\n",
              "      <td>6</td>\n",
              "    </tr>\n",
              "    <tr>\n",
              "      <th>169</th>\n",
              "      <td>1.106811</td>\n",
              "      <td>0.705</td>\n",
              "      <td>0.24</td>\n",
              "      <td>0.423877</td>\n",
              "      <td>-1.302401</td>\n",
              "      <td>3.317116</td>\n",
              "      <td>4.610758</td>\n",
              "      <td>0.99640</td>\n",
              "      <td>3.00</td>\n",
              "      <td>0.366186</td>\n",
              "      <td>0.300488</td>\n",
              "      <td>5</td>\n",
              "    </tr>\n",
              "    <tr>\n",
              "      <th>226</th>\n",
              "      <td>1.148853</td>\n",
              "      <td>0.590</td>\n",
              "      <td>0.50</td>\n",
              "      <td>0.473382</td>\n",
              "      <td>-1.409368</td>\n",
              "      <td>4.225977</td>\n",
              "      <td>4.922846</td>\n",
              "      <td>0.99640</td>\n",
              "      <td>3.04</td>\n",
              "      <td>0.373774</td>\n",
              "      <td>0.300488</td>\n",
              "      <td>6</td>\n",
              "    </tr>\n",
              "    <tr>\n",
              "      <th>614</th>\n",
              "      <td>1.156455</td>\n",
              "      <td>0.755</td>\n",
              "      <td>0.18</td>\n",
              "      <td>0.513157</td>\n",
              "      <td>-3.052797</td>\n",
              "      <td>2.733844</td>\n",
              "      <td>5.224976</td>\n",
              "      <td>0.99690</td>\n",
              "      <td>2.87</td>\n",
              "      <td>0.262324</td>\n",
              "      <td>0.300523</td>\n",
              "      <td>6</td>\n",
              "    </tr>\n",
              "    <tr>\n",
              "      <th>836</th>\n",
              "      <td>1.076354</td>\n",
              "      <td>0.280</td>\n",
              "      <td>0.28</td>\n",
              "      <td>0.545763</td>\n",
              "      <td>-14.348451</td>\n",
              "      <td>4.699860</td>\n",
              "      <td>5.187609</td>\n",
              "      <td>0.99064</td>\n",
              "      <td>3.26</td>\n",
              "      <td>-1.617990</td>\n",
              "      <td>0.300572</td>\n",
              "      <td>7</td>\n",
              "    </tr>\n",
              "    <tr>\n",
              "      <th>837</th>\n",
              "      <td>1.076354</td>\n",
              "      <td>0.280</td>\n",
              "      <td>0.28</td>\n",
              "      <td>0.545763</td>\n",
              "      <td>-14.348451</td>\n",
              "      <td>4.699860</td>\n",
              "      <td>5.187609</td>\n",
              "      <td>0.99064</td>\n",
              "      <td>3.26</td>\n",
              "      <td>-1.617990</td>\n",
              "      <td>0.300572</td>\n",
              "      <td>7</td>\n",
              "    </tr>\n",
              "    <tr>\n",
              "      <th>1269</th>\n",
              "      <td>1.017211</td>\n",
              "      <td>0.490</td>\n",
              "      <td>0.03</td>\n",
              "      <td>0.423877</td>\n",
              "      <td>-6.939143</td>\n",
              "      <td>4.284797</td>\n",
              "      <td>5.012315</td>\n",
              "      <td>0.99080</td>\n",
              "      <td>3.50</td>\n",
              "      <td>-0.220914</td>\n",
              "      <td>0.300610</td>\n",
              "      <td>8</td>\n",
              "    </tr>\n",
              "    <tr>\n",
              "      <th>1319</th>\n",
              "      <td>1.153967</td>\n",
              "      <td>0.760</td>\n",
              "      <td>0.68</td>\n",
              "      <td>0.394331</td>\n",
              "      <td>-1.086343</td>\n",
              "      <td>3.590783</td>\n",
              "      <td>4.630198</td>\n",
              "      <td>0.99652</td>\n",
              "      <td>2.90</td>\n",
              "      <td>0.246041</td>\n",
              "      <td>0.300462</td>\n",
              "      <td>6</td>\n",
              "    </tr>\n",
              "    <tr>\n",
              "      <th>1475</th>\n",
              "      <td>1.005215</td>\n",
              "      <td>0.470</td>\n",
              "      <td>0.11</td>\n",
              "      <td>0.513157</td>\n",
              "      <td>-6.583035</td>\n",
              "      <td>3.413163</td>\n",
              "      <td>5.040839</td>\n",
              "      <td>0.99182</td>\n",
              "      <td>3.54</td>\n",
              "      <td>-0.136918</td>\n",
              "      <td>0.300604</td>\n",
              "      <td>7</td>\n",
              "    </tr>\n",
              "    <tr>\n",
              "      <th>1477</th>\n",
              "      <td>1.005215</td>\n",
              "      <td>0.470</td>\n",
              "      <td>0.11</td>\n",
              "      <td>0.513157</td>\n",
              "      <td>-6.583035</td>\n",
              "      <td>3.413163</td>\n",
              "      <td>5.040839</td>\n",
              "      <td>0.99182</td>\n",
              "      <td>3.54</td>\n",
              "      <td>-0.136918</td>\n",
              "      <td>0.300605</td>\n",
              "      <td>7</td>\n",
              "    </tr>\n",
              "    <tr>\n",
              "      <th>1488</th>\n",
              "      <td>1.022940</td>\n",
              "      <td>0.540</td>\n",
              "      <td>0.04</td>\n",
              "      <td>0.394331</td>\n",
              "      <td>-6.500704</td>\n",
              "      <td>1.812859</td>\n",
              "      <td>2.739320</td>\n",
              "      <td>0.99420</td>\n",
              "      <td>3.72</td>\n",
              "      <td>-0.737642</td>\n",
              "      <td>0.300564</td>\n",
              "      <td>5</td>\n",
              "    </tr>\n",
              "    <tr>\n",
              "      <th>1491</th>\n",
              "      <td>1.022940</td>\n",
              "      <td>0.540</td>\n",
              "      <td>0.04</td>\n",
              "      <td>0.394331</td>\n",
              "      <td>-6.500704</td>\n",
              "      <td>1.812859</td>\n",
              "      <td>2.739320</td>\n",
              "      <td>0.99420</td>\n",
              "      <td>3.72</td>\n",
              "      <td>-0.737642</td>\n",
              "      <td>0.300564</td>\n",
              "      <td>5</td>\n",
              "    </tr>\n",
              "  </tbody>\n",
              "</table>\n",
              "</div>"
            ],
            "text/plain": [
              "      fixed acidity  volatile acidity  citric acid  residual sugar  chlorides  \\\n",
              "45         0.956497             0.520         0.15        0.494302  -6.123025   \n",
              "94         0.985731             1.020         0.04        0.277689  -6.845807   \n",
              "95         0.964194             0.600         0.17        0.530233  -5.855781   \n",
              "442        1.257350             0.685         0.76        0.666360  -4.081922   \n",
              "553        0.985731             1.040         0.24        0.360736  -6.420787   \n",
              "554        1.256323             0.645         0.49        0.691490  -4.230744   \n",
              "555        1.256323             0.645         0.49        0.691490  -4.230744   \n",
              "557        1.257350             0.645         0.49        0.691490  -4.230744   \n",
              "588        0.985731             0.420         0.24        0.473382  -5.732018   \n",
              "652        1.260365             0.360         0.65        0.768664  -4.200078   \n",
              "695        0.992438             0.470         0.02        0.225628  -8.081545   \n",
              "802        0.992438             0.585         0.00        0.394331  -6.939143   \n",
              "821        0.978797             0.420         0.00        0.494302  -6.583035   \n",
              "1114       0.985731             0.400         0.50        0.695755  -6.755446   \n",
              "1157       0.992438             0.510         0.18        0.494302  -7.135430   \n",
              "1228       0.992438             0.420         0.00        0.423877  -6.939143   \n",
              "1270       0.985731             0.380         0.01        0.360736  -6.583035   \n",
              "1321       0.985731             0.740         0.00        0.164038  -7.238761   \n",
              "38         1.028501             1.130         0.09        0.322230  -2.704725   \n",
              "120        1.099721             1.070         0.09        0.394331  -2.628605   \n",
              "1299       1.110239             1.580         0.00        0.494302  -3.241203   \n",
              "151        1.156455             0.520         1.00        0.647378  -0.554649   \n",
              "198        1.011306             0.835         0.08        0.164038  -6.755446   \n",
              "324        1.174846             0.490         0.20        0.797229  -5.145129   \n",
              "325        1.174846             0.490         0.20        0.797229  -5.145129   \n",
              "480        1.187103             0.280         0.39        0.813867  -5.241591   \n",
              "1017       1.123232             0.180         0.37       -0.112192  -6.500704   \n",
              "1018       1.123232             0.180         0.37       -0.112192  -6.500704   \n",
              "1079       1.120087             0.300         0.68        0.777520  -6.420787   \n",
              "1081       1.120087             0.300         0.68        0.777520  -6.420787   \n",
              "1219       1.151434             0.390         0.40        0.225628  -6.939143   \n",
              "1316       1.011306             0.740         0.00        0.164038  -7.238761   \n",
              "1374       1.080486             0.815         0.00        0.164038  -1.813472   \n",
              "1434       1.179065             0.540         0.37        0.813611  -2.239528   \n",
              "1435       1.179065             0.540         0.37        0.813611  -2.239528   \n",
              "1474       1.172683             0.500         0.50        0.808966  -2.327377   \n",
              "1476       1.172683             0.500         0.50        0.808966  -2.327377   \n",
              "1558       1.084519             0.630         0.33        0.757479  -2.054009   \n",
              "142        0.998929             0.340         0.00        0.423877  -6.420787   \n",
              "144        0.998929             0.340         0.00        0.423877  -6.420787   \n",
              "169        1.106811             0.705         0.24        0.423877  -1.302401   \n",
              "226        1.148853             0.590         0.50        0.473382  -1.409368   \n",
              "614        1.156455             0.755         0.18        0.513157  -3.052797   \n",
              "836        1.076354             0.280         0.28        0.545763 -14.348451   \n",
              "837        1.076354             0.280         0.28        0.545763 -14.348451   \n",
              "1269       1.017211             0.490         0.03        0.423877  -6.939143   \n",
              "1319       1.153967             0.760         0.68        0.394331  -1.086343   \n",
              "1475       1.005215             0.470         0.11        0.513157  -6.583035   \n",
              "1477       1.005215             0.470         0.11        0.513157  -6.583035   \n",
              "1488       1.022940             0.540         0.04        0.394331  -6.500704   \n",
              "1491       1.022940             0.540         0.04        0.394331  -6.500704   \n",
              "\n",
              "      free sulfur dioxide  total sulfur dioxide  density    pH  sulphates  \\\n",
              "45               2.427186              4.649352  0.99340  3.90  -0.801405   \n",
              "94               4.920668              4.983161  0.99380  3.75  -1.111447   \n",
              "95               3.504207              5.261323  0.99320  3.85  -0.678257   \n",
              "442              2.046206              4.144017  1.00320  2.95  -0.476630   \n",
              "553              4.503448              5.136097  0.99340  3.74  -0.622818   \n",
              "554              2.733844              3.398654  1.00315  2.92  -0.354821   \n",
              "555              2.733844              3.398654  1.00315  2.92  -0.354821   \n",
              "557              2.733844              3.398654  1.00315  2.92  -0.354821   \n",
              "588              3.673341              4.327250  0.99170  3.72  -0.354821   \n",
              "652              3.900481              4.758716  0.99760  2.98  -0.191541   \n",
              "695              3.590783              4.171856  0.99210  3.90  -0.622818   \n",
              "802              3.215430              4.997818  0.99264  3.56  -0.063954   \n",
              "821              3.413163              4.115556  0.99154  3.71  -0.354821   \n",
              "1114             4.341848              4.907326  0.99020  3.49  -0.522316   \n",
              "1157             3.413163              5.200182  0.99240  3.46  -0.150088   \n",
              "1228             3.590783              5.026654  0.99157  3.68  -0.373689   \n",
              "1270             4.165264              4.550629  0.99084  3.70  -0.336470   \n",
              "1321             3.413163              4.225777  0.99258  4.01  -0.707430   \n",
              "38               2.248371              3.175737  0.99400  3.50  -1.111447   \n",
              "120              2.733844              5.040839  0.99620  3.30  -0.768947   \n",
              "1299             1.812859              2.324372  0.99476  3.50  -1.550083   \n",
              "151              4.503448              4.723270  0.99960  2.74   0.490605   \n",
              "198              3.107333              5.096107  0.99240  3.57  -0.177388   \n",
              "324              3.107333              4.327250  1.00150  3.16  -0.454811   \n",
              "325              3.107333              4.327250  1.00150  3.16  -0.454811   \n",
              "480              2.046206              3.398654  1.00260  3.12  -0.522316   \n",
              "1017             4.699860              5.296706  0.99007  2.89  -1.310211   \n",
              "1018             4.699860              5.296706  0.99007  2.89  -1.310211   \n",
              "1079             4.768721              6.513244  0.99316  3.01  -0.983425   \n",
              "1081             4.768721              6.564923  0.99316  3.01  -0.983425   \n",
              "1219             4.102521              4.327250  0.99478  3.20  -0.206045   \n",
              "1316             3.413163              4.225777  0.99258  4.01  -0.707430   \n",
              "1374             3.413163              3.672029  0.99471  3.32  -0.983425   \n",
              "1434             5.435027              5.122900  1.00369  3.18  -0.301243   \n",
              "1435             5.435027              5.122900  1.00369  3.18  -0.301243   \n",
              "1474             5.193940              4.938186  1.00242  3.16  -0.336470   \n",
              "1476             5.193940              4.938186  1.00242  3.16  -0.336470   \n",
              "1558             5.765463              5.364782  0.99787  3.22  -0.801405   \n",
              "142              4.225977              4.610758  0.99160  3.68  -0.267854   \n",
              "144              4.225977              4.610758  0.99160  3.68  -0.267854   \n",
              "169              3.317116              4.610758  0.99640  3.00   0.366186   \n",
              "226              4.225977              4.922846  0.99640  3.04   0.373774   \n",
              "614              2.733844              5.224976  0.99690  2.87   0.262324   \n",
              "836              4.699860              5.187609  0.99064  3.26  -1.617990   \n",
              "837              4.699860              5.187609  0.99064  3.26  -1.617990   \n",
              "1269             4.284797              5.012315  0.99080  3.50  -0.220914   \n",
              "1319             3.590783              4.630198  0.99652  2.90   0.246041   \n",
              "1475             3.413163              5.040839  0.99182  3.54  -0.136918   \n",
              "1477             3.413163              5.040839  0.99182  3.54  -0.136918   \n",
              "1488             1.812859              2.739320  0.99420  3.72  -0.737642   \n",
              "1491             1.812859              2.739320  0.99420  3.72  -0.737642   \n",
              "\n",
              "       alcohol  quality  \n",
              "45    0.300598        4  \n",
              "94    0.300535        4  \n",
              "95    0.300595        6  \n",
              "442   0.300559        7  \n",
              "553   0.300567        5  \n",
              "554   0.300556        5  \n",
              "555   0.300556        5  \n",
              "557   0.300556        5  \n",
              "588   0.300610        8  \n",
              "652   0.300618        5  \n",
              "695   0.300593        6  \n",
              "802   0.300595        7  \n",
              "821   0.300610        7  \n",
              "1114  0.300605        6  \n",
              "1157  0.300595        7  \n",
              "1228  0.300605        7  \n",
              "1270  0.300610        6  \n",
              "1321  0.300588        6  \n",
              "38    0.300504        4  \n",
              "120   0.300454        5  \n",
              "1299  0.300549        3  \n",
              "151   0.300482        4  \n",
              "198   0.300597        7  \n",
              "324   0.300469        6  \n",
              "325   0.300469        6  \n",
              "480   0.300469        5  \n",
              "1017  0.300592        6  \n",
              "1018  0.300592        6  \n",
              "1079  0.300585        7  \n",
              "1081  0.300585        7  \n",
              "1219  0.300549        6  \n",
              "1316  0.300588        6  \n",
              "1374  0.300504        3  \n",
              "1434  0.300454        6  \n",
              "1435  0.300454        6  \n",
              "1474  0.300439        5  \n",
              "1476  0.300439        5  \n",
              "1558  0.300488        5  \n",
              "142   0.300610        6  \n",
              "144   0.300610        6  \n",
              "169   0.300488        5  \n",
              "226   0.300488        6  \n",
              "614   0.300523        6  \n",
              "836   0.300572        7  \n",
              "837   0.300572        7  \n",
              "1269  0.300610        8  \n",
              "1319  0.300462        6  \n",
              "1475  0.300604        7  \n",
              "1477  0.300605        7  \n",
              "1488  0.300564        5  \n",
              "1491  0.300564        5  "
            ]
          },
          "execution_count": 48,
          "metadata": {},
          "output_type": "execute_result"
        }
      ],
      "source": [
        "print(\"number of outliers detected --> \",len(data.loc[detect_outliers(data,data.columns[:-1])]))\n",
        "data.loc[detect_outliers(data,data.columns[:-1])]"
      ]
    },
    {
      "cell_type": "code",
      "execution_count": null,
      "metadata": {
        "id": "XRjYJ0QrCA31"
      },
      "outputs": [],
      "source": [
        "data = data.drop(detect_outliers(data,data.columns[:-1]),axis = 0).reset_index(drop = True)"
      ]
    },
    {
      "cell_type": "code",
      "execution_count": null,
      "metadata": {
        "id": "Efbfq6VnCA32",
        "outputId": "731d6c5a-c11b-4f06-c433-82091ea17350"
      },
      "outputs": [
        {
          "data": {
            "text/plain": [
              "(1548, 12)"
            ]
          },
          "execution_count": 50,
          "metadata": {},
          "output_type": "execute_result"
        }
      ],
      "source": [
        "data.shape"
      ]
    },
    {
      "cell_type": "code",
      "execution_count": null,
      "metadata": {
        "id": "4pOP3VdqCA32",
        "outputId": "1d7e9bb7-1d66-4206-f882-61f038ed40b9"
      },
      "outputs": [
        {
          "data": {
            "text/html": [
              "<div>\n",
              "<style scoped>\n",
              "    .dataframe tbody tr th:only-of-type {\n",
              "        vertical-align: middle;\n",
              "    }\n",
              "\n",
              "    .dataframe tbody tr th {\n",
              "        vertical-align: top;\n",
              "    }\n",
              "\n",
              "    .dataframe thead th {\n",
              "        text-align: right;\n",
              "    }\n",
              "</style>\n",
              "<table border=\"1\" class=\"dataframe\">\n",
              "  <thead>\n",
              "    <tr style=\"text-align: right;\">\n",
              "      <th></th>\n",
              "      <th>fixed acidity</th>\n",
              "      <th>volatile acidity</th>\n",
              "      <th>citric acid</th>\n",
              "      <th>residual sugar</th>\n",
              "      <th>chlorides</th>\n",
              "      <th>free sulfur dioxide</th>\n",
              "      <th>total sulfur dioxide</th>\n",
              "      <th>density</th>\n",
              "      <th>pH</th>\n",
              "      <th>sulphates</th>\n",
              "      <th>alcohol</th>\n",
              "      <th>quality</th>\n",
              "    </tr>\n",
              "  </thead>\n",
              "  <tbody>\n",
              "    <tr>\n",
              "      <th>count</th>\n",
              "      <td>1548.000000</td>\n",
              "      <td>1548.000000</td>\n",
              "      <td>1548.000000</td>\n",
              "      <td>1548.000000</td>\n",
              "      <td>1548.000000</td>\n",
              "      <td>1548.000000</td>\n",
              "      <td>1548.000000</td>\n",
              "      <td>1548.000000</td>\n",
              "      <td>1548.000000</td>\n",
              "      <td>1548.000000</td>\n",
              "      <td>1548.000000</td>\n",
              "      <td>1548.000000</td>\n",
              "    </tr>\n",
              "    <tr>\n",
              "      <th>mean</th>\n",
              "      <td>1.125970</td>\n",
              "      <td>0.526428</td>\n",
              "      <td>0.271156</td>\n",
              "      <td>0.514197</td>\n",
              "      <td>-4.743316</td>\n",
              "      <td>3.110475</td>\n",
              "      <td>3.945206</td>\n",
              "      <td>0.996792</td>\n",
              "      <td>3.309638</td>\n",
              "      <td>-0.612929</td>\n",
              "      <td>0.300523</td>\n",
              "      <td>5.631137</td>\n",
              "    </tr>\n",
              "    <tr>\n",
              "      <th>std</th>\n",
              "      <td>0.045693</td>\n",
              "      <td>0.175659</td>\n",
              "      <td>0.192923</td>\n",
              "      <td>0.103680</td>\n",
              "      <td>0.836474</td>\n",
              "      <td>0.979361</td>\n",
              "      <td>0.838648</td>\n",
              "      <td>0.001725</td>\n",
              "      <td>0.143485</td>\n",
              "      <td>0.334529</td>\n",
              "      <td>0.000038</td>\n",
              "      <td>0.794445</td>\n",
              "    </tr>\n",
              "    <tr>\n",
              "      <th>min</th>\n",
              "      <td>0.998929</td>\n",
              "      <td>0.120000</td>\n",
              "      <td>0.000000</td>\n",
              "      <td>0.164038</td>\n",
              "      <td>-7.572154</td>\n",
              "      <td>0.000000</td>\n",
              "      <td>1.875723</td>\n",
              "      <td>0.991200</td>\n",
              "      <td>2.860000</td>\n",
              "      <td>-2.114887</td>\n",
              "      <td>0.300402</td>\n",
              "      <td>3.000000</td>\n",
              "    </tr>\n",
              "    <tr>\n",
              "      <th>25%</th>\n",
              "      <td>1.092298</td>\n",
              "      <td>0.390000</td>\n",
              "      <td>0.100000</td>\n",
              "      <td>0.450049</td>\n",
              "      <td>-5.145129</td>\n",
              "      <td>2.248371</td>\n",
              "      <td>3.346596</td>\n",
              "      <td>0.995660</td>\n",
              "      <td>3.210000</td>\n",
              "      <td>-0.835081</td>\n",
              "      <td>0.300488</td>\n",
              "      <td>5.000000</td>\n",
              "    </tr>\n",
              "    <tr>\n",
              "      <th>50%</th>\n",
              "      <td>1.120087</td>\n",
              "      <td>0.520000</td>\n",
              "      <td>0.260000</td>\n",
              "      <td>0.513157</td>\n",
              "      <td>-4.795645</td>\n",
              "      <td>3.107333</td>\n",
              "      <td>3.962831</td>\n",
              "      <td>0.996800</td>\n",
              "      <td>3.310000</td>\n",
              "      <td>-0.622818</td>\n",
              "      <td>0.300519</td>\n",
              "      <td>6.000000</td>\n",
              "    </tr>\n",
              "    <tr>\n",
              "      <th>75%</th>\n",
              "      <td>1.156455</td>\n",
              "      <td>0.636250</td>\n",
              "      <td>0.420000</td>\n",
              "      <td>0.572939</td>\n",
              "      <td>-4.391441</td>\n",
              "      <td>3.827881</td>\n",
              "      <td>4.550629</td>\n",
              "      <td>0.997833</td>\n",
              "      <td>3.400000</td>\n",
              "      <td>-0.393099</td>\n",
              "      <td>0.300553</td>\n",
              "      <td>6.000000</td>\n",
              "    </tr>\n",
              "    <tr>\n",
              "      <th>max</th>\n",
              "      <td>1.251019</td>\n",
              "      <td>1.330000</td>\n",
              "      <td>0.790000</td>\n",
              "      <td>0.809291</td>\n",
              "      <td>-0.552596</td>\n",
              "      <td>5.926269</td>\n",
              "      <td>5.828287</td>\n",
              "      <td>1.002890</td>\n",
              "      <td>3.780000</td>\n",
              "      <td>0.485766</td>\n",
              "      <td>0.300610</td>\n",
              "      <td>8.000000</td>\n",
              "    </tr>\n",
              "  </tbody>\n",
              "</table>\n",
              "</div>"
            ],
            "text/plain": [
              "       fixed acidity  volatile acidity  citric acid  residual sugar  \\\n",
              "count    1548.000000       1548.000000  1548.000000     1548.000000   \n",
              "mean        1.125970          0.526428     0.271156        0.514197   \n",
              "std         0.045693          0.175659     0.192923        0.103680   \n",
              "min         0.998929          0.120000     0.000000        0.164038   \n",
              "25%         1.092298          0.390000     0.100000        0.450049   \n",
              "50%         1.120087          0.520000     0.260000        0.513157   \n",
              "75%         1.156455          0.636250     0.420000        0.572939   \n",
              "max         1.251019          1.330000     0.790000        0.809291   \n",
              "\n",
              "         chlorides  free sulfur dioxide  total sulfur dioxide      density  \\\n",
              "count  1548.000000          1548.000000           1548.000000  1548.000000   \n",
              "mean     -4.743316             3.110475              3.945206     0.996792   \n",
              "std       0.836474             0.979361              0.838648     0.001725   \n",
              "min      -7.572154             0.000000              1.875723     0.991200   \n",
              "25%      -5.145129             2.248371              3.346596     0.995660   \n",
              "50%      -4.795645             3.107333              3.962831     0.996800   \n",
              "75%      -4.391441             3.827881              4.550629     0.997833   \n",
              "max      -0.552596             5.926269              5.828287     1.002890   \n",
              "\n",
              "                pH    sulphates      alcohol      quality  \n",
              "count  1548.000000  1548.000000  1548.000000  1548.000000  \n",
              "mean      3.309638    -0.612929     0.300523     5.631137  \n",
              "std       0.143485     0.334529     0.000038     0.794445  \n",
              "min       2.860000    -2.114887     0.300402     3.000000  \n",
              "25%       3.210000    -0.835081     0.300488     5.000000  \n",
              "50%       3.310000    -0.622818     0.300519     6.000000  \n",
              "75%       3.400000    -0.393099     0.300553     6.000000  \n",
              "max       3.780000     0.485766     0.300610     8.000000  "
            ]
          },
          "execution_count": 51,
          "metadata": {},
          "output_type": "execute_result"
        }
      ],
      "source": [
        "data.describe()"
      ]
    },
    {
      "cell_type": "markdown",
      "metadata": {
        "id": "u8h1bYQiCA32"
      },
      "source": [
        "**IV. Modeling**"
      ]
    },
    {
      "cell_type": "code",
      "execution_count": null,
      "metadata": {
        "id": "zRhVaHbKCA33"
      },
      "outputs": [],
      "source": [
        "from sklearn.model_selection import train_test_split\n",
        "from sklearn.ensemble import RandomForestClassifier\n",
        "from sklearn.metrics import accuracy_score\n",
        "from sklearn.linear_model import LogisticRegression\n",
        "from sklearn.preprocessing import StandardScaler\n",
        "from sklearn import svm\n",
        "from sklearn.neighbors import KNeighborsClassifier\n",
        "from sklearn.metrics import classification_report, confusion_matrix, accuracy_score\n",
        "import collections\n",
        "from imblearn import under_sampling \n",
        "from imblearn import over_sampling\n",
        "from imblearn.over_sampling import SMOTE"
      ]
    },
    {
      "cell_type": "markdown",
      "metadata": {
        "id": "Dq-YdSH-CA33"
      },
      "source": [
        "--Label Binarization--"
      ]
    },
    {
      "cell_type": "code",
      "execution_count": null,
      "metadata": {
        "id": "4pbMQXAOCA33"
      },
      "outputs": [],
      "source": [
        "# separate the data and Label\n",
        "X = data.drop('quality',axis=1)\n",
        "#label binarization \n",
        "Y = data['quality'].apply(lambda y_value: 1 if y_value>=7 else 0)"
      ]
    },
    {
      "cell_type": "code",
      "execution_count": null,
      "metadata": {
        "id": "VMsUFMqTCA34",
        "outputId": "59fc99ee-e7c5-4065-de61-efe7e7a0ae2c"
      },
      "outputs": [
        {
          "data": {
            "text/plain": [
              "0    1345\n",
              "1     203\n",
              "Name: quality, dtype: int64"
            ]
          },
          "execution_count": 54,
          "metadata": {},
          "output_type": "execute_result"
        }
      ],
      "source": [
        "Y.value_counts()"
      ]
    },
    {
      "cell_type": "markdown",
      "metadata": {
        "id": "A3DrZ1WrCA34"
      },
      "source": [
        "--> imbalanced data detetected, will fix this using oversampling of SMOTE "
      ]
    },
    {
      "cell_type": "markdown",
      "metadata": {
        "id": "0qlSbYcaCA34"
      },
      "source": [
        "-- Train-Test Split and Oversampling --"
      ]
    },
    {
      "cell_type": "code",
      "execution_count": null,
      "metadata": {
        "id": "MzjU6-DJCA34"
      },
      "outputs": [],
      "source": [
        "X_train, X_test, Y_train, Y_test = train_test_split(X, Y, test_size=0.2, random_state=42)"
      ]
    },
    {
      "cell_type": "code",
      "execution_count": null,
      "metadata": {
        "id": "hwHclTSkCA35"
      },
      "outputs": [],
      "source": [
        "sm = SMOTE(random_state=14)\n",
        "X_train_sm, y_train_sm = sm.fit_resample(X_train, Y_train)"
      ]
    },
    {
      "cell_type": "code",
      "execution_count": null,
      "metadata": {
        "id": "qadatGFnCA35",
        "outputId": "747d7fbd-f5b7-44d4-eea7-a83ebc1e52e7"
      },
      "outputs": [
        {
          "name": "stdout",
          "output_type": "stream",
          "text": [
            "Before smote -->  Counter({0: 1077, 1: 161})\n",
            "After smote -->  Counter({0: 1077, 1: 1077})\n"
          ]
        }
      ],
      "source": [
        "print(\"Before smote --> \", collections.Counter(Y_train))\n",
        "print(\"After smote --> \", collections.Counter(y_train_sm))"
      ]
    },
    {
      "cell_type": "code",
      "execution_count": null,
      "metadata": {
        "id": "ajeamUvzCA35"
      },
      "outputs": [],
      "source": [
        "#Standardized data \n",
        "scaler = StandardScaler()\n",
        "X_train_sm = scaler.fit_transform(X_train_sm) \n",
        "X_test = scaler.transform(X_test) "
      ]
    },
    {
      "cell_type": "code",
      "execution_count": null,
      "metadata": {
        "id": "BGoFIYZZCA35"
      },
      "outputs": [],
      "source": [
        "results = []"
      ]
    },
    {
      "cell_type": "markdown",
      "metadata": {
        "id": "6qsAdkHlCA36"
      },
      "source": [
        "**4.1. KNN**"
      ]
    },
    {
      "cell_type": "code",
      "execution_count": null,
      "metadata": {
        "id": "1ty34W_JCA36",
        "outputId": "d6a410c3-6bfc-4d3d-d6e8-4f7856181f09"
      },
      "outputs": [
        {
          "name": "stdout",
          "output_type": "stream",
          "text": [
            "KNeighborsClassifier Acc :  0.7967741935483871\n"
          ]
        },
        {
          "data": {
            "image/png": "[encoded data removed]",
            "text/plain": [
              "<Figure size 432x288 with 2 Axes>"
            ]
          },
          "metadata": {
            "needs_background": "light"
          },
          "output_type": "display_data"
        }
      ],
      "source": [
        "knn = KNeighborsClassifier(n_neighbors = 5)\n",
        "knn.fit(X_train_sm, y_train_sm)\n",
        "y_pred = knn.predict(X_test)\n",
        "cm = confusion_matrix(Y_test, y_pred)\n",
        "\n",
        "acc1 = accuracy_score(Y_test, y_pred)\n",
        "results.append(acc1)\n",
        "print(\"KNeighborsClassifier Acc : \", acc1)\n",
        "\n",
        "plot_confusion_matrix(knn, X_test, Y_test, cmap= 'Blues')  \n",
        "plt.show()"
      ]
    },
    {
      "cell_type": "code",
      "execution_count": null,
      "metadata": {
        "id": "jdNtKQ-vCA36",
        "outputId": "5d66e257-3ed8-4ff4-a684-0af098c15716"
      },
      "outputs": [
        {
          "name": "stdout",
          "output_type": "stream",
          "text": [
            " \t \t  KNN Classification Report\n",
            "              precision    recall  f1-score   support\n",
            "\n",
            "           0       0.96      0.79      0.87       268\n",
            "           1       0.38      0.81      0.52        42\n",
            "\n",
            "    accuracy                           0.80       310\n",
            "   macro avg       0.67      0.80      0.70       310\n",
            "weighted avg       0.88      0.80      0.82       310\n",
            "\n"
          ]
        }
      ],
      "source": [
        "print(\" \\t \\t  KNN Classification Report\")\n",
        "print(classification_report(Y_test, y_pred))"
      ]
    },
    {
      "cell_type": "markdown",
      "metadata": {
        "id": "o_8ttuFbCA36"
      },
      "source": [
        "**4.2. SVC**"
      ]
    },
    {
      "cell_type": "code",
      "execution_count": null,
      "metadata": {
        "id": "noiLOtEbCA37",
        "outputId": "7d169539-8c1a-4223-d0bb-1763635d5340"
      },
      "outputs": [
        {
          "name": "stdout",
          "output_type": "stream",
          "text": [
            "SVC Acc :  0.867741935483871\n"
          ]
        },
        {
          "data": {
            "image/png": "[encoded data removed]",
            "text/plain": [
              "<Figure size 432x288 with 2 Axes>"
            ]
          },
          "metadata": {
            "needs_background": "light"
          },
          "output_type": "display_data"
        }
      ],
      "source": [
        "from sklearn.svm import SVC\n",
        "svc = SVC()\n",
        "svc.fit(X_train_sm, y_train_sm)\n",
        "pred_svc = svc.predict(X_test)\n",
        "\n",
        "cm_svc = confusion_matrix(Y_test, pred_svc)\n",
        "acc2 = accuracy_score(Y_test, pred_svc)\n",
        "results.append(acc2)\n",
        "\n",
        "print(\"SVC Acc : \", acc2)\n",
        "\n",
        "plot_confusion_matrix(svc, X_test, Y_test, cmap= \"Blues\")  \n",
        "plt.show()"
      ]
    },
    {
      "cell_type": "code",
      "execution_count": null,
      "metadata": {
        "id": "GFQBp028CA37",
        "outputId": "9c34679d-d571-4270-d12c-5f5f75b3f005"
      },
      "outputs": [
        {
          "name": "stdout",
          "output_type": "stream",
          "text": [
            " \t \t  SVC Classification Report\n",
            "              precision    recall  f1-score   support\n",
            "\n",
            "           0       0.96      0.88      0.92       268\n",
            "           1       0.51      0.76      0.61        42\n",
            "\n",
            "    accuracy                           0.87       310\n",
            "   macro avg       0.73      0.82      0.76       310\n",
            "weighted avg       0.90      0.87      0.88       310\n",
            "\n"
          ]
        }
      ],
      "source": [
        "print(\" \\t \\t  SVC Classification Report\")\n",
        "print(classification_report(Y_test, pred_svc))"
      ]
    },
    {
      "cell_type": "markdown",
      "metadata": {
        "id": "slto5vgHCA37"
      },
      "source": [
        "**4.3. Logistics Regression**"
      ]
    },
    {
      "cell_type": "code",
      "execution_count": null,
      "metadata": {
        "id": "_TiJMZHfCA38",
        "outputId": "5e1d89bd-fc44-43b9-d8f8-0066d2a2f769"
      },
      "outputs": [
        {
          "name": "stdout",
          "output_type": "stream",
          "text": [
            "Logistics Regression Acc :  0.7935483870967742\n"
          ]
        },
        {
          "data": {
            "image/png": "[encoded data removed]",
            "text/plain": [
              "<Figure size 432x288 with 2 Axes>"
            ]
          },
          "metadata": {
            "needs_background": "light"
          },
          "output_type": "display_data"
        }
      ],
      "source": [
        "logreg = LogisticRegression()\n",
        "logreg.fit(X_train_sm, y_train_sm)\n",
        "log_pred = logreg.predict(X_test)\n",
        "cm = confusion_matrix(Y_test, log_pred)\n",
        "\n",
        "acc3 = accuracy_score(Y_test, log_pred)\n",
        "results.append(acc3)\n",
        "print(\"Logistics Regression Acc : \", acc3)\n",
        "\n",
        "plot_confusion_matrix(logreg, X_test, Y_test, cmap= \"Blues\")  \n",
        "plt.show()"
      ]
    },
    {
      "cell_type": "code",
      "execution_count": null,
      "metadata": {
        "id": "8L3Ol6B5CA38",
        "outputId": "5f7270e3-2bf1-4aab-be20-ff26f08b0865"
      },
      "outputs": [
        {
          "name": "stdout",
          "output_type": "stream",
          "text": [
            " \t \t  Logistics Regression Report\n",
            "              precision    recall  f1-score   support\n",
            "\n",
            "           0       0.96      0.79      0.87       268\n",
            "           1       0.38      0.79      0.51        42\n",
            "\n",
            "    accuracy                           0.79       310\n",
            "   macro avg       0.67      0.79      0.69       310\n",
            "weighted avg       0.88      0.79      0.82       310\n",
            "\n"
          ]
        }
      ],
      "source": [
        "print(\" \\t \\t  Logistics Regression Report\")\n",
        "print(classification_report(Y_test, log_pred))"
      ]
    },
    {
      "cell_type": "markdown",
      "metadata": {
        "id": "xZg28V5YCA39"
      },
      "source": [
        "**4.4. Random Forest Classification**"
      ]
    },
    {
      "cell_type": "code",
      "execution_count": null,
      "metadata": {
        "id": "VtxjJz-VCA39",
        "outputId": "7a63c044-f8ab-441a-85bf-faf8f6e6c00b"
      },
      "outputs": [
        {
          "name": "stdout",
          "output_type": "stream",
          "text": [
            "RandomForestClassifier Acc :  0.9\n"
          ]
        },
        {
          "data": {
            "image/png": "[encoded data removed]",
            "text/plain": [
              "<Figure size 432x288 with 2 Axes>"
            ]
          },
          "metadata": {
            "needs_background": "light"
          },
          "output_type": "display_data"
        }
      ],
      "source": [
        "rf = RandomForestClassifier(max_depth=18, random_state=44, bootstrap = False)\n",
        "rf.fit(X_train_sm, y_train_sm)\n",
        "y_pred_rf = rf.predict(X_test)\n",
        "cm = confusion_matrix(Y_test, y_pred_rf)\n",
        "\n",
        "acc4 = accuracy_score(Y_test, y_pred_rf)\n",
        "results.append(acc4)\n",
        "\n",
        "print(\"RandomForestClassifier Acc : \", acc4)\n",
        "\n",
        "plot_confusion_matrix(rf, X_test, Y_test, cmap= \"Blues\")  \n",
        "plt.show()"
      ]
    },
    {
      "cell_type": "code",
      "execution_count": null,
      "metadata": {
        "id": "AIfXmavuCA39",
        "outputId": "5e1867ba-0299-426a-e88f-d32e0e064239"
      },
      "outputs": [
        {
          "name": "stdout",
          "output_type": "stream",
          "text": [
            " \t \t  RandomForestClassifier Classification Report\n",
            "              precision    recall  f1-score   support\n",
            "\n",
            "           0       0.94      0.94      0.94       268\n",
            "           1       0.63      0.64      0.64        42\n",
            "\n",
            "    accuracy                           0.90       310\n",
            "   macro avg       0.79      0.79      0.79       310\n",
            "weighted avg       0.90      0.90      0.90       310\n",
            "\n"
          ]
        }
      ],
      "source": [
        "print(\" \\t \\t  RandomForestClassifier Classification Report\")\n",
        "print(classification_report(Y_test, y_pred_rf))"
      ]
    },
    {
      "cell_type": "markdown",
      "metadata": {
        "id": "X-p3NRmGCA3-"
      },
      "source": [
        "**RESULT TABLE**"
      ]
    },
    {
      "cell_type": "code",
      "execution_count": null,
      "metadata": {
        "id": "OBDCX-feCA3-"
      },
      "outputs": [],
      "source": [
        "df_result = pd.DataFrame({\"Score\":results, \"ML Models\":[\"KNN\",\"SVC\",\"LogisticsRegression\",\"RandomForestClassifier\"]})"
      ]
    },
    {
      "cell_type": "code",
      "execution_count": null,
      "metadata": {
        "id": "QH19iHHCCA3-",
        "outputId": "11b29a7c-4f29-42c3-e5e9-9597291e307d"
      },
      "outputs": [
        {
          "data": {
            "text/html": [
              "<style type=\"text/css\">\n",
              "#T_35b7a_row0_col0 {\n",
              "  background-color: #f2f7fd;\n",
              "  color: #000000;\n",
              "}\n",
              "#T_35b7a_row1_col0 {\n",
              "  background-color: #2f7fbc;\n",
              "  color: #f1f1f1;\n",
              "}\n",
              "#T_35b7a_row2_col0 {\n",
              "  background-color: #f7fbff;\n",
              "  color: #000000;\n",
              "}\n",
              "#T_35b7a_row3_col0 {\n",
              "  background-color: #08306b;\n",
              "  color: #f1f1f1;\n",
              "}\n",
              "</style>\n",
              "<table id=\"T_35b7a\">\n",
              "  <thead>\n",
              "    <tr>\n",
              "      <th class=\"blank level0\" >&nbsp;</th>\n",
              "      <th id=\"T_35b7a_level0_col0\" class=\"col_heading level0 col0\" >Score</th>\n",
              "      <th id=\"T_35b7a_level0_col1\" class=\"col_heading level0 col1\" >ML Models</th>\n",
              "    </tr>\n",
              "  </thead>\n",
              "  <tbody>\n",
              "    <tr>\n",
              "      <th id=\"T_35b7a_level0_row0\" class=\"row_heading level0 row0\" >0</th>\n",
              "      <td id=\"T_35b7a_row0_col0\" class=\"data row0 col0\" >0.796774</td>\n",
              "      <td id=\"T_35b7a_row0_col1\" class=\"data row0 col1\" >KNN</td>\n",
              "    </tr>\n",
              "    <tr>\n",
              "      <th id=\"T_35b7a_level0_row1\" class=\"row_heading level0 row1\" >1</th>\n",
              "      <td id=\"T_35b7a_row1_col0\" class=\"data row1 col0\" >0.867742</td>\n",
              "      <td id=\"T_35b7a_row1_col1\" class=\"data row1 col1\" >SVC</td>\n",
              "    </tr>\n",
              "    <tr>\n",
              "      <th id=\"T_35b7a_level0_row2\" class=\"row_heading level0 row2\" >2</th>\n",
              "      <td id=\"T_35b7a_row2_col0\" class=\"data row2 col0\" >0.793548</td>\n",
              "      <td id=\"T_35b7a_row2_col1\" class=\"data row2 col1\" >LogisticsRegression</td>\n",
              "    </tr>\n",
              "    <tr>\n",
              "      <th id=\"T_35b7a_level0_row3\" class=\"row_heading level0 row3\" >3</th>\n",
              "      <td id=\"T_35b7a_row3_col0\" class=\"data row3 col0\" >0.900000</td>\n",
              "      <td id=\"T_35b7a_row3_col1\" class=\"data row3 col1\" >RandomForestClassifier</td>\n",
              "    </tr>\n",
              "  </tbody>\n",
              "</table>\n"
            ],
            "text/plain": [
              "<pandas.io.formats.style.Styler at 0x1340632e0>"
            ]
          },
          "execution_count": 69,
          "metadata": {},
          "output_type": "execute_result"
        }
      ],
      "source": [
        "df_result.style.background_gradient(\"Blues\")"
      ]
    },
    {
      "cell_type": "code",
      "execution_count": null,
      "metadata": {
        "id": "p-RvfmpOCA3_",
        "outputId": "8f69c544-68f2-4339-fff2-9cab42230335"
      },
      "outputs": [
        {
          "data": {
            "image/png": "[encoded data removed]",
            "text/plain": [
              "<Figure size 432x288 with 1 Axes>"
            ]
          },
          "metadata": {
            "needs_background": "light"
          },
          "output_type": "display_data"
        }
      ],
      "source": [
        "g = sns.barplot(\"Score\", \"ML Models\", data = df_result, palette='Blues')\n",
        "g.set_xlabel(\"Score\")\n",
        "g.set_title(\"Classifier Model Results\", color = \"Black\")\n",
        "plt.show()"
      ]
    }
  ],
  "metadata": {
    "colab": {
      "provenance": []
    },
    "kernelspec": {
      "display_name": "Python 3.10.7 64-bit",
      "language": "python",
      "name": "python3"
    },
    "language_info": {
      "codemirror_mode": {
        "name": "ipython",
        "version": 3
      },
      "file_extension": ".py",
      "mimetype": "text/x-python",
      "name": "python",
      "nbconvert_exporter": "python",
      "pygments_lexer": "ipython3",
      "version": "3.10.7"
    },
    "orig_nbformat": 4,
    "vscode": {
      "interpreter": {
        "hash": "aee8b7b246df8f9039afb4144a1f6fd8d2ca17a180786b69acc140d282b71a49"
      }
    }
  },
  "nbformat": 4,
  "nbformat_minor": 0
}
